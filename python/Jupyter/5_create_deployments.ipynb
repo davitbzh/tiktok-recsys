{
 "cells": [
  {
   "cell_type": "markdown",
   "id": "6e41b710",
   "metadata": {},
   "source": [
    "## <span style=\"color:#ff5f27\">👨🏻‍🏫 Create Deployment </span>\n",
    "\n",
    "In this notebook, you'll create a deployment for your recommendation system.\n",
    "\n",
    "**NOTE Currently the transformer scripts are not implemented.**"
   ]
  },
  {
   "cell_type": "markdown",
   "id": "ee973d80",
   "metadata": {},
   "source": [
    "## <span style=\"color:#ff5f27\">📝 Imports </span>"
   ]
  },
  {
   "cell_type": "code",
   "execution_count": 1,
   "id": "37f41985",
   "metadata": {},
   "outputs": [],
   "source": [
    "# !pip install -r requirements.txt"
   ]
  },
  {
   "cell_type": "code",
   "execution_count": 2,
   "id": "61b4fcb8",
   "metadata": {},
   "outputs": [],
   "source": [
    "import os"
   ]
  },
  {
   "cell_type": "markdown",
   "id": "938184c7",
   "metadata": {},
   "source": [
    "## <span style=\"color:#ff5f27\">🔮 Connect to Hopsworks Feature Store </span>"
   ]
  },
  {
   "cell_type": "code",
   "execution_count": 3,
   "id": "e585da2e",
   "metadata": {},
   "outputs": [
    {
     "name": "stdout",
     "output_type": "stream",
     "text": [
      "Connected. Call `.close()` to terminate connection gracefully.\n",
      "\n",
      "Logged in to project, explore it here https://snurran.hops.works/p/11383\n",
      "Connected. Call `.close()` to terminate connection gracefully.\n"
     ]
    }
   ],
   "source": [
    "import hopsworks\n",
    "\n",
    "project = hopsworks.login()\n",
    "\n",
    "# Connect to Hopsworks Model Registry\n",
    "mr = project.get_model_registry()\n",
    "\n",
    "dataset_api = project.get_dataset_api()"
   ]
  },
  {
   "cell_type": "markdown",
   "id": "7e8d8456",
   "metadata": {},
   "source": [
    "## <span style=\"color:#ff5f27\">🚀 Ranking Model Deployment </span>\n"
   ]
  },
  {
   "cell_type": "markdown",
   "id": "4e35ceca",
   "metadata": {},
   "source": [
    "You start by deploying your ranking model. Since it is a CatBoost model you need to implement a `Predict` class that tells Hopsworks how to load the model and how to use it."
   ]
  },
  {
   "cell_type": "code",
   "execution_count": 4,
   "id": "92fc6026",
   "metadata": {},
   "outputs": [
    {
     "data": {
      "text/plain": [
       "Model(name: 'ranking_model', version: 1)"
      ]
     },
     "execution_count": 4,
     "metadata": {},
     "output_type": "execute_result"
    }
   ],
   "source": [
    "ranking_model = mr.get_best_model(\n",
    "    name=\"ranking_model\", \n",
    "    metric=\"fscore\", \n",
    "    direction=\"max\",\n",
    ")\n",
    "ranking_model"
   ]
  },
  {
   "cell_type": "code",
   "execution_count": 5,
   "id": "2cc61edf",
   "metadata": {},
   "outputs": [
    {
     "name": "stdout",
     "output_type": "stream",
     "text": [
      "Overwriting ranking_transformer.py\n"
     ]
    }
   ],
   "source": [
    "%%writefile ranking_transformer.py\n",
    "\n",
    "import os\n",
    "import pandas as pd\n",
    "\n",
    "import hopsworks\n",
    "from opensearchpy import OpenSearch\n",
    "\n",
    "import logging\n",
    "\n",
    "\n",
    "class Transformer(object):\n",
    "    \n",
    "    def __init__(self):\n",
    "        # Connect to Hopsworks\n",
    "        project = hopsworks.connection().get_project()\n",
    "        self.fs = project.get_feature_store()\n",
    "        \n",
    "        # Retrieve the 'videos' feature view\n",
    "        self.videos_fv = self.fs.get_feature_view(\n",
    "            name=\"videos\", \n",
    "            version=1,\n",
    "        )\n",
    "        \n",
    "        # Get list of feature names for videos\n",
    "        self.video_features = [feat.name for feat in self.videos_fv.schema]\n",
    "        \n",
    "        # Retrieve the 'users' feature view\n",
    "        self.users_fv = self.fs.get_feature_view(\n",
    "            name=\"users\", \n",
    "            version=1,\n",
    "        )\n",
    "\n",
    "        # Retrieve the 'candidate_embeddings' feature view\n",
    "        self.candidate_index = self.fs.get_feature_view(\n",
    "            name=\"candidate_embeddings\", \n",
    "            version=1,\n",
    "        )\n",
    "\n",
    "        # Retrieve ranking model\n",
    "        mr = project.get_model_registry()\n",
    "        model = mr.get_model(\n",
    "            name=\"ranking_model\", \n",
    "            version=1,\n",
    "        )\n",
    "        \n",
    "        # Extract input schema from the model\n",
    "        input_schema = model.model_schema[\"input_schema\"][\"columnar_schema\"]\n",
    "        \n",
    "        # Get the names of features expected by the ranking model\n",
    "        self.ranking_model_feature_names = [feat[\"name\"] for feat in input_schema]\n",
    "            \n",
    "    def preprocess(self, inputs):\n",
    "        # Extract the input instance\n",
    "        inputs = inputs[\"instances\"][0]\n",
    "\n",
    "        # Extract customer_id from inputs\n",
    "        user_id = inputs[\"user_id\"]\n",
    "        \n",
    "        # Search for candidate items\n",
    "        neighbors = self.candidate_index.find_neighbors(\n",
    "            inputs[\"query_emb\"], \n",
    "            k=100,\n",
    "        )\n",
    "        neighbors = [neighbor[0] for neighbor in neighbors]\n",
    "        \n",
    "        # Get IDs of items already bought by the customer\n",
    "        already_seen_videos_ids = self.fs.sql(\n",
    "            f\"SELECT video_id from interactions_1 WHERE user_id = '{user_id}'\", \n",
    "            online=True).values.reshape(-1).tolist()\n",
    "        \n",
    "        # Filter candidate items to exclude those already bought by the customer\n",
    "        video_id_list = [\n",
    "            video_id\n",
    "            for video_id \n",
    "            in neighbors \n",
    "            if video_id\n",
    "            not in already_seen_videos_ids\n",
    "        ]\n",
    "        video_id_df = pd.DataFrame({\"video_id\" : video_id_list})\n",
    "        \n",
    "        # Retrieve Article data for candidate items\n",
    "        videos_data = [\n",
    "            self.videos_fv.get_feature_vector({\"video_id\": video_id}) \n",
    "            for video_id \n",
    "            in video_id_list\n",
    "        ]\n",
    "\n",
    "        videos_df = pd.DataFrame(\n",
    "            data=videos_data, \n",
    "            columns=self.video_features,\n",
    "        )\n",
    "        \n",
    "        # Join candidate items with their features\n",
    "        ranking_model_inputs = video_id_df.merge(\n",
    "            videos_df, \n",
    "            on=\"video_id\", \n",
    "            how=\"inner\",\n",
    "        )        \n",
    "        \n",
    "        # Add customer features\n",
    "        user_features = self.users_fv.get_feature_vector(\n",
    "            {\"user_id\": user_id}, \n",
    "            return_type=\"pandas\",\n",
    "        )\n",
    "        \n",
    "        ranking_model_inputs[\"user_id\"] = user_features['age'].values[0]   \n",
    "        ranking_model_inputs[\"gender\"] = user_features[\"gender\"].values[0] \n",
    "        ranking_model_inputs[\"age\"] = user_features[\"age\"].values[0] \n",
    "        ranking_model_inputs[\"country\"] = user_features[\"country\"].values[0] \n",
    "        \n",
    "        # Select only the features required by the ranking model\n",
    "        ranking_model_inputs = ranking_model_inputs[self.ranking_model_feature_names]\n",
    "                \n",
    "        return { \n",
    "            \"inputs\" : [{\"ranking_features\": ranking_model_inputs.values.tolist(), \"video_ids\": video_id_list}]\n",
    "        }\n",
    "\n",
    "    def postprocess(self, outputs):\n",
    "        # Extract predictions from the outputs\n",
    "        preds = outputs[\"predictions\"]\n",
    "        \n",
    "        # Merge prediction scores and corresponding article IDs into a list of tuples\n",
    "        ranking = list(zip(preds[\"scores\"], preds[\"video_ids\"]))\n",
    "        \n",
    "        # Sort the ranking list by score in descending order\n",
    "        ranking.sort(reverse=True)\n",
    "        \n",
    "        # Return the sorted ranking list\n",
    "        return { \n",
    "            \"ranking\": ranking,\n",
    "        }"
   ]
  },
  {
   "cell_type": "code",
   "execution_count": 6,
   "id": "2ae449bd",
   "metadata": {},
   "outputs": [
    {
     "data": {
      "application/vnd.jupyter.widget-view+json": {
       "model_id": "9b709939e0e6422ab9e970cd553d1963",
       "version_major": 2,
       "version_minor": 0
      },
      "text/plain": [
       "Uploading: 0.000%|          | 0/4244 elapsed<00:00 remaining<?"
      ]
     },
     "metadata": {},
     "output_type": "display_data"
    }
   ],
   "source": [
    "# Copy transformer file into Hopsworks File System \n",
    "uploaded_file_path = dataset_api.upload(\n",
    "    \"ranking_transformer.py\",    # File name to be uploaded\n",
    "    \"Resources\",                 # Destination directory in Hopsworks File System \n",
    "    overwrite=True,              # Overwrite the file if it already exists\n",
    ") \n",
    "\n",
    "# Construct the path to the uploaded transformer script\n",
    "transformer_script_path = os.path.join(\n",
    "    \"/Projects\",                 # Root directory for projects in Hopsworks\n",
    "    project.name,                # Name of the current project\n",
    "    uploaded_file_path,          # Path to the uploaded file within the project\n",
    ")"
   ]
  },
  {
   "cell_type": "code",
   "execution_count": 7,
   "id": "00d5c6fe",
   "metadata": {},
   "outputs": [
    {
     "name": "stdout",
     "output_type": "stream",
     "text": [
      "Overwriting ranking_predictor.py\n"
     ]
    }
   ],
   "source": [
    "%%writefile ranking_predictor.py\n",
    "\n",
    "import os\n",
    "import joblib\n",
    "import numpy as np\n",
    "\n",
    "import logging\n",
    "\n",
    "class Predict(object):\n",
    "    \n",
    "    def __init__(self):\n",
    "        self.model = joblib.load(os.environ[\"ARTIFACT_FILES_PATH\"] + \"/ranking_model.pkl\")\n",
    "\n",
    "    def predict(self, inputs):\n",
    "        # Extract ranking features and article IDs from the inputs\n",
    "        features = inputs[0].pop(\"ranking_features\")\n",
    "        video_ids = inputs[0].pop(\"video_ids\")\n",
    "        \n",
    "        # Log the extracted features\n",
    "        logging.info(\"predict -> \" + str(features))\n",
    "\n",
    "        # Predict probabilities for the positive class\n",
    "        scores = self.model.predict_proba(features).tolist()\n",
    "        \n",
    "        # Get scores of positive class\n",
    "        scores = np.asarray(scores)[:,1].tolist() \n",
    "\n",
    "        # Return the predicted scores along with the corresponding article IDs\n",
    "        return {\n",
    "            \"scores\": scores, \n",
    "            \"video_ids\": video_ids,\n",
    "        }"
   ]
  },
  {
   "cell_type": "code",
   "execution_count": 8,
   "id": "e17ed95d",
   "metadata": {},
   "outputs": [
    {
     "data": {
      "application/vnd.jupyter.widget-view+json": {
       "model_id": "f785cc960476470b9834bbc99833b485",
       "version_major": 2,
       "version_minor": 0
      },
      "text/plain": [
       "Uploading: 0.000%|          | 0/891 elapsed<00:00 remaining<?"
      ]
     },
     "metadata": {},
     "output_type": "display_data"
    }
   ],
   "source": [
    "# Upload predictor file to Hopsworks\n",
    "uploaded_file_path = dataset_api.upload(\n",
    "    \"ranking_predictor.py\", \n",
    "    \"Resources\", \n",
    "    overwrite=True,\n",
    ")\n",
    "\n",
    "# Construct the path to the uploaded script\n",
    "predictor_script_path = os.path.join(\n",
    "    \"/Projects\", \n",
    "    project.name, \n",
    "    uploaded_file_path,\n",
    ")"
   ]
  },
  {
   "cell_type": "markdown",
   "id": "b949b49c",
   "metadata": {},
   "source": [
    "With that in place, you can finally deploy your model."
   ]
  },
  {
   "cell_type": "code",
   "execution_count": 9,
   "id": "05afd4ec",
   "metadata": {},
   "outputs": [
    {
     "name": "stdout",
     "output_type": "stream",
     "text": [
      "Deployment created, explore it at https://snurran.hops.works/p/11383/deployments/7191\n",
      "Before making predictions, start the deployment by using `.start()`\n"
     ]
    }
   ],
   "source": [
    "from hsml.transformer import Transformer\n",
    "\n",
    "ranking_deployment_name = \"rankingdeployment\"\n",
    "\n",
    "# Define transformer\n",
    "ranking_transformer=Transformer(\n",
    "    script_file=transformer_script_path, \n",
    "    resources={\"num_instances\": 1},\n",
    ")\n",
    "\n",
    "# Deploy ranking model\n",
    "ranking_deployment = ranking_model.deploy(\n",
    "    name=ranking_deployment_name,\n",
    "    description=\"Deployment that search for video candidates and scores them based on user metadata\",\n",
    "    script_file=predictor_script_path,\n",
    "    resources={\"num_instances\": 1},\n",
    "    transformer=ranking_transformer,\n",
    ")"
   ]
  },
  {
   "cell_type": "code",
   "execution_count": 10,
   "id": "ba2b3d49",
   "metadata": {},
   "outputs": [
    {
     "data": {
      "application/vnd.jupyter.widget-view+json": {
       "model_id": "427badcc5c8d40748c47e6f6345a6088",
       "version_major": 2,
       "version_minor": 0
      },
      "text/plain": [
       "  0%|          | 0/6 [00:00<?, ?it/s]"
      ]
     },
     "metadata": {},
     "output_type": "display_data"
    },
    {
     "name": "stdout",
     "output_type": "stream",
     "text": [
      "Start making predictions by using `.predict()`\n"
     ]
    }
   ],
   "source": [
    "# Start the deployment\n",
    "ranking_deployment.start()"
   ]
  },
  {
   "cell_type": "code",
   "execution_count": 11,
   "id": "3e01f75b",
   "metadata": {},
   "outputs": [],
   "source": [
    "# Check logs in case of failure\n",
    "# ranking_deployment.get_logs(component=\"predictor\", tail=200)"
   ]
  },
  {
   "cell_type": "code",
   "execution_count": 12,
   "id": "730a40a5",
   "metadata": {},
   "outputs": [],
   "source": [
    "def get_top_recommendations(ranked_candidates, k=3):\n",
    "    return [candidate[-1] for candidate in ranked_candidates['ranking'][:k]]"
   ]
  },
  {
   "cell_type": "code",
   "execution_count": 13,
   "id": "8fa69eba",
   "metadata": {},
   "outputs": [],
   "source": [
    "# Define a test input example\n",
    "test_ranking_input = {\"instances\": [{\n",
    "    \"user_id\": \"NT203T\",\n",
    "    \"query_emb\": [0.214135289,\n",
    "     0.571055949,\n",
    "     0.330709577,\n",
    "     -0.225899458,\n",
    "     -0.308674961,\n",
    "     -0.0115124583,\n",
    "     0.0730511621,\n",
    "     -0.495835781,\n",
    "     0.625569344,\n",
    "     -0.0438038409,\n",
    "     0.263472944,\n",
    "     -0.58485353,\n",
    "     -0.307070434,\n",
    "     0.0414443575,\n",
    "     -0.321789205,\n",
    "     0.966559],\n",
    "}]}"
   ]
  },
  {
   "cell_type": "code",
   "execution_count": 14,
   "id": "c73ddc54",
   "metadata": {},
   "outputs": [
    {
     "data": {
      "text/plain": [
       "['9ZM95T', '9UV89G', '9QY64K']"
      ]
     },
     "execution_count": 14,
     "metadata": {},
     "output_type": "execute_result"
    }
   ],
   "source": [
    "# Test ranking deployment\n",
    "ranked_candidates = ranking_deployment.predict(test_ranking_input)\n",
    "\n",
    "# Retrieve article ids of the top recommended items\n",
    "recommendations = get_top_recommendations(ranked_candidates, k=3)\n",
    "recommendations"
   ]
  },
  {
   "cell_type": "code",
   "execution_count": 15,
   "id": "70647183",
   "metadata": {},
   "outputs": [],
   "source": [
    "# Check logs in case of failure\n",
    "# ranking_deployment.get_logs(component=\"transformer\",tail=200)"
   ]
  },
  {
   "cell_type": "markdown",
   "id": "f18bd00f",
   "metadata": {},
   "source": [
    "---"
   ]
  },
  {
   "cell_type": "markdown",
   "id": "0fabefb7",
   "metadata": {},
   "source": [
    "## <span style=\"color:#ff5f27\">🚀 Query Model Deployment </span>\n",
    "\n",
    "Next, you'll deploy your query model."
   ]
  },
  {
   "cell_type": "code",
   "execution_count": 16,
   "id": "f21cf178",
   "metadata": {},
   "outputs": [],
   "source": [
    "# Retrieve the 'query_model' from the Model Registry\n",
    "query_model = mr.get_model(\n",
    "    name=\"query_model\",\n",
    "    version=1,\n",
    ")"
   ]
  },
  {
   "cell_type": "code",
   "execution_count": 17,
   "id": "f8d0b152",
   "metadata": {},
   "outputs": [
    {
     "name": "stdout",
     "output_type": "stream",
     "text": [
      "Overwriting querymodel_transformer.py\n"
     ]
    }
   ],
   "source": [
    "%%writefile querymodel_transformer.py\n",
    "\n",
    "import os\n",
    "import numpy as np\n",
    "import pandas as pd\n",
    "from datetime import datetime\n",
    "\n",
    "import hopsworks\n",
    "\n",
    "import logging\n",
    "\n",
    "\n",
    "class Transformer(object):\n",
    "    \n",
    "    def __init__(self):            \n",
    "        # Connect to the Hopsworks\n",
    "        project = hopsworks.connection().get_project()\n",
    "        ms = project.get_model_serving()\n",
    "    \n",
    "        # Retrieve the 'users' feature view\n",
    "        fs = project.get_feature_store()\n",
    "        self.users_fv = fs.get_feature_view(\n",
    "            name=\"users\", \n",
    "            version=1,\n",
    "        )\n",
    "        # Retrieve the ranking deployment \n",
    "        self.ranking_server = ms.get_deployment(\"rankingdeployment\")\n",
    "        \n",
    "        \n",
    "    def preprocess(self, inputs):\n",
    "        # Check if the input data contains a key named \"instances\"\n",
    "        # and extract the actual data if present\n",
    "        inputs = inputs[\"instances\"] if \"instances\" in inputs else inputs\n",
    "\n",
    "        # Extract customer_id from the inputs\n",
    "        user_id = inputs[\"user_id\"]\n",
    "\n",
    "        # Get customer features\n",
    "        user_features = self.users_fv.get_feature_vector(\n",
    "            {\"user_id\": user_id}, \n",
    "            return_type=\"pandas\",\n",
    "        )\n",
    "\n",
    "        # Enrich inputs with customer age\n",
    "        inputs[\"gender\"] = user_features['gender'].values[0]\n",
    "        inputs[\"age\"] = user_features['age'].values[0] \n",
    "        inputs[\"country\"] = user_features['country'].values[0]\n",
    "        \n",
    "        return {\n",
    "            \"instances\" : [inputs]\n",
    "        }\n",
    "    \n",
    "    def postprocess(self, outputs):\n",
    "        # Return ordered ranking predictions\n",
    "        return {\n",
    "            \"predictions\": self.ranking_server.predict({ \"instances\": outputs[\"predictions\"]}),\n",
    "        }"
   ]
  },
  {
   "cell_type": "code",
   "execution_count": 18,
   "id": "e7f49df5",
   "metadata": {},
   "outputs": [
    {
     "data": {
      "application/vnd.jupyter.widget-view+json": {
       "model_id": "7b7077daefe041d38c26851e5c95e10f",
       "version_major": 2,
       "version_minor": 0
      },
      "text/plain": [
       "Uploading: 0.000%|          | 0/1620 elapsed<00:00 remaining<?"
      ]
     },
     "metadata": {},
     "output_type": "display_data"
    }
   ],
   "source": [
    "# Copy transformer file into Hopsworks File System\n",
    "uploaded_file_path = dataset_api.upload(\n",
    "    \"querymodel_transformer.py\", \n",
    "    \"Models\", \n",
    "    overwrite=True,\n",
    ")\n",
    "\n",
    "# Construct the path to the uploaded script\n",
    "transformer_script_path = os.path.join(\n",
    "    \"/Projects\", \n",
    "    project.name, \n",
    "    uploaded_file_path,\n",
    ")"
   ]
  },
  {
   "cell_type": "code",
   "execution_count": 19,
   "id": "b37f57ac",
   "metadata": {},
   "outputs": [
    {
     "name": "stdout",
     "output_type": "stream",
     "text": [
      "Deployment created, explore it at https://snurran.hops.works/p/11383/deployments/7192\n",
      "Before making predictions, start the deployment by using `.start()`\n"
     ]
    }
   ],
   "source": [
    "from hsml.transformer import Transformer\n",
    "\n",
    "query_model_deployment_name = \"querydeployment\"\n",
    "\n",
    "# Define transformer\n",
    "query_model_transformer=Transformer(\n",
    "    script_file=transformer_script_path, \n",
    "    resources={\"num_instances\": 1},\n",
    ")\n",
    "\n",
    "# Deploy the query model\n",
    "query_model_deployment = query_model.deploy(\n",
    "    name=query_model_deployment_name,\n",
    "    description=\"Deployment that generates query embeddings from user and video features using the query model\",\n",
    "    resources={\"num_instances\": 1},\n",
    "    transformer=query_model_transformer,\n",
    ")"
   ]
  },
  {
   "cell_type": "markdown",
   "id": "c6a70b04",
   "metadata": {},
   "source": [
    "At this point, you have registered your deployment. To start it up you need to run:"
   ]
  },
  {
   "cell_type": "code",
   "execution_count": 20,
   "id": "8e7e30a6",
   "metadata": {},
   "outputs": [
    {
     "data": {
      "application/vnd.jupyter.widget-view+json": {
       "model_id": "6c7d51092d7f43c4b73e76fad80220db",
       "version_major": 2,
       "version_minor": 0
      },
      "text/plain": [
       "  0%|          | 0/6 [00:00<?, ?it/s]"
      ]
     },
     "metadata": {},
     "output_type": "display_data"
    },
    {
     "name": "stdout",
     "output_type": "stream",
     "text": [
      "Start making predictions by using `.predict()`\n"
     ]
    }
   ],
   "source": [
    "# Start the deployment\n",
    "query_model_deployment.start()"
   ]
  },
  {
   "cell_type": "code",
   "execution_count": 21,
   "id": "78cf209e",
   "metadata": {},
   "outputs": [],
   "source": [
    "# Check logs in case of failure\n",
    "# query_model_deployment.get_logs(component=\"transformer\", tail=20)"
   ]
  },
  {
   "cell_type": "code",
   "execution_count": 22,
   "id": "df504626",
   "metadata": {},
   "outputs": [
    {
     "data": {
      "text/plain": [
       "['9ZM95T', '9UV89G', '9QY64K']"
      ]
     },
     "execution_count": 22,
     "metadata": {},
     "output_type": "execute_result"
    }
   ],
   "source": [
    "# Define a test input example\n",
    "data = {\n",
    "    \"instances\": {\n",
    "        \"user_id\": \"NT203T\",\n",
    "    }\n",
    "}\n",
    "\n",
    "# Test the deployment\n",
    "ranked_candidates = query_model_deployment.predict(data)\n",
    "\n",
    "# Retrieve article ids of the top recommended items\n",
    "recommendations = get_top_recommendations(\n",
    "    ranked_candidates['predictions'], \n",
    "    k=3,\n",
    ")\n",
    "recommendations"
   ]
  },
  {
   "cell_type": "code",
   "execution_count": 23,
   "id": "6cae0395",
   "metadata": {},
   "outputs": [],
   "source": [
    "# Check logs in case of failure\n",
    "# query_model_deployment.get_logs(component=\"transformer\",tail=200)"
   ]
  },
  {
   "cell_type": "markdown",
   "id": "719c29a8",
   "metadata": {},
   "source": [
    "Stop the deployment when you're not using it."
   ]
  },
  {
   "cell_type": "code",
   "execution_count": 24,
   "id": "6f616474",
   "metadata": {},
   "outputs": [
    {
     "data": {
      "application/vnd.jupyter.widget-view+json": {
       "model_id": "fee8d5d837324799bd3c80efaad0dce5",
       "version_major": 2,
       "version_minor": 0
      },
      "text/plain": [
       "  0%|          | 0/4 [00:00<?, ?it/s]"
      ]
     },
     "metadata": {},
     "output_type": "display_data"
    },
    {
     "data": {
      "application/vnd.jupyter.widget-view+json": {
       "model_id": "4d3831a42d06418a9bbcb372016c553a",
       "version_major": 2,
       "version_minor": 0
      },
      "text/plain": [
       "  0%|          | 0/4 [00:00<?, ?it/s]"
      ]
     },
     "metadata": {},
     "output_type": "display_data"
    }
   ],
   "source": [
    "# Stop the ranking model deployment\n",
    "ranking_deployment.stop()\n",
    "\n",
    "# Stop the query model deployment\n",
    "query_model_deployment.stop()"
   ]
  },
  {
   "cell_type": "markdown",
   "id": "760e3396",
   "metadata": {},
   "source": [
    "---"
   ]
  }
 ],
 "metadata": {
  "kernelspec": {
   "display_name": "Python 3",
   "language": "python",
   "name": "python3"
  },
  "language_info": {
   "codemirror_mode": {
    "name": "ipython",
    "version": 3
   },
   "file_extension": ".py",
   "mimetype": "text/x-python",
   "name": "python",
   "nbconvert_exporter": "python",
   "pygments_lexer": "ipython3",
   "version": "3.10.11"
  }
 },
 "nbformat": 4,
 "nbformat_minor": 5
}
