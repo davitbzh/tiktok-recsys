{
 "cells": [
  {
   "cell_type": "markdown",
   "id": "74d2c263",
   "metadata": {},
   "source": [
    "## <span style='color:#ff5f27'> 📝 Imports"
   ]
  },
  {
   "cell_type": "code",
   "execution_count": null,
   "id": "62e07d21",
   "metadata": {},
   "outputs": [],
   "source": [
    "# !pip install -r requirements.txt --quiet"
   ]
  },
  {
   "cell_type": "code",
   "execution_count": null,
   "id": "4d06a1e5",
   "metadata": {},
   "outputs": [],
   "source": [
    "import pandas as pd\n",
    "import numpy as np\n",
    "import great_expectations as ge\n",
    "from great_expectations.core import ExpectationSuite, ExpectationConfiguration\n",
    "\n",
    "from features.users import generate_users\n",
    "from features.videos import generate_video_content\n",
    "from features.interactions import generate_interactions, generate_user_interactions_window_agg, generate_video_interactions_window_agg\n",
    "from streaming import config"
   ]
  },
  {
   "cell_type": "markdown",
   "id": "6a4e0ee8",
   "metadata": {},
   "source": [
    "## <span style='color:#ff5f27'> ⚙️ Data Generation</span>\n"
   ]
  },
  {
   "cell_type": "markdown",
   "id": "5fb0d84c",
   "metadata": {},
   "source": [
    "### <span style='color:#ff5f27'> 👥 Users Data Generation</span>"
   ]
  },
  {
   "cell_type": "code",
   "execution_count": null,
   "id": "fce94dc8",
   "metadata": {},
   "outputs": [],
   "source": [
    "user_data = generate_users(\n",
    "    config.USERS_AMOUNT_HISTORICAL,\n",
    "    historical=True,\n",
    ")\n",
    "\n",
    "data_users_df = pd.DataFrame(user_data)\n",
    "data_users_df.registration_date = data_users_df.registration_date.apply(pd.to_datetime)\n",
    "data_users_df.head()"
   ]
  },
  {
   "cell_type": "code",
   "execution_count": null,
   "id": "b86e8c38",
   "metadata": {},
   "outputs": [],
   "source": [
    "data_users_df.shape"
   ]
  },
  {
   "cell_type": "markdown",
   "id": "538080dd",
   "metadata": {},
   "source": [
    "### <span style='color:#ff5f27'> 🎥 Content Data Generation</span>\n"
   ]
  },
  {
   "cell_type": "code",
   "execution_count": null,
   "id": "d4e2188c",
   "metadata": {},
   "outputs": [],
   "source": [
    "# Generate data for videos\n",
    "video_data = generate_video_content(\n",
    "    config.VIDEO_AMOUNT_HISTORICAL, \n",
    "    historical=True,\n",
    ")\n",
    "\n",
    "data_video_df = pd.DataFrame(video_data)\n",
    "data_video_df.upload_date = data_video_df.upload_date.apply(pd.to_datetime)\n",
    "\n",
    "data_video_df.head()"
   ]
  },
  {
   "cell_type": "markdown",
   "id": "a2b34c80",
   "metadata": {},
   "source": [
    "### <span style='color:#ff5f27'> 🔗 Interactions Generation</span>\n"
   ]
  },
  {
   "cell_type": "code",
   "execution_count": null,
   "id": "cf255190",
   "metadata": {},
   "outputs": [],
   "source": [
    "# Generate interactions\n",
    "interactions = generate_interactions(\n",
    "    config.INTERACTIONS_AMOUNT_HISTORICAL, \n",
    "    user_data, \n",
    "    video_data,\n",
    ")\n",
    "\n",
    "data_interactions_df = pd.DataFrame(interactions)\n",
    "data_interactions_df.interaction_date = data_interactions_df.interaction_date.apply(pd.to_datetime)\n",
    "data_interactions_df.head()"
   ]
  },
  {
   "cell_type": "code",
   "execution_count": null,
   "id": "273fc423",
   "metadata": {},
   "outputs": [],
   "source": [
    "user_interactions_window_agg = generate_user_interactions_window_agg(\n",
    "    config.INTERACTIONS_AMOUNT_HISTORICAL, \n",
    "    user_data, \n",
    "    video_data,\n",
    ")"
   ]
  },
  {
   "cell_type": "code",
   "execution_count": null,
   "id": "69f52d00",
   "metadata": {},
   "outputs": [],
   "source": [
    "user_interactions_window_agg_df = pd.DataFrame(user_interactions_window_agg)\n",
    "user_interactions_window_agg_df.window_end_time = user_interactions_window_agg_df.window_end_time.apply(pd.to_datetime)\n",
    "user_interactions_window_agg_df"
   ]
  },
  {
   "cell_type": "code",
   "execution_count": null,
   "id": "28db3e37",
   "metadata": {},
   "outputs": [],
   "source": [
    "video_interactions_window_agg = generate_video_interactions_window_agg(    \n",
    "    config.INTERACTIONS_AMOUNT_HISTORICAL, \n",
    "    user_data, \n",
    "    video_data,\n",
    ")"
   ]
  },
  {
   "cell_type": "code",
   "execution_count": null,
   "id": "0ae1ff34",
   "metadata": {},
   "outputs": [],
   "source": [
    "video_interactions_window_agg_df = pd.DataFrame(video_interactions_window_agg)\n",
    "video_interactions_window_agg_df.window_end_time = video_interactions_window_agg_df.window_end_time.apply(pd.to_datetime)\n",
    "video_interactions_window_agg_df"
   ]
  },
  {
   "cell_type": "markdown",
   "id": "022e16a5",
   "metadata": {},
   "source": [
    "## <span style=\"color:#ff5f27\">👮🏻‍♂️ Great Expectations </span>"
   ]
  },
  {
   "cell_type": "code",
   "execution_count": null,
   "id": "c1b6548a",
   "metadata": {},
   "outputs": [],
   "source": [
    "# Create a Great Expectations DataFrame from the pandas DataFrame\n",
    "ge_users_df = ge.from_pandas(data_users_df)\n",
    "\n",
    "# Initialize the expectation suite\n",
    "expectation_suite_users = ge_users_df.get_expectation_suite()\n",
    "expectation_suite_users.expectation_suite_name = \"user_data_suite\"\n",
    "\n",
    "# Expectation: Age should be between 0 and 120\n",
    "expectation_suite_users.add_expectation(\n",
    "    ExpectationConfiguration(\n",
    "        expectation_type=\"expect_column_values_to_be_between\",\n",
    "        kwargs={\"column\": \"age\", \"min_value\": 12, \"max_value\": 100}\n",
    "    )\n",
    ")\n",
    "\n",
    "# Expectations: Columns should not have null values\n",
    "for column in ge_users_df.columns:\n",
    "    expectation_suite_users.add_expectation(\n",
    "        ExpectationConfiguration(\n",
    "            expectation_type=\"expect_column_values_to_not_be_null\",\n",
    "            kwargs={\"column\": column}\n",
    "        )\n",
    "    )\n",
    "\n",
    "# Expectation: Gender should only contain specific values\n",
    "expectation_suite_users.add_expectation(\n",
    "    ExpectationConfiguration(\n",
    "        expectation_type=\"expect_column_distinct_values_to_be_in_set\",\n",
    "        kwargs={\"column\": \"gender\", \"value_set\": [\"Male\", \"Female\", \"Other\"]}\n",
    "    )\n",
    ")"
   ]
  },
  {
   "cell_type": "code",
   "execution_count": null,
   "id": "1b5cc2d5",
   "metadata": {},
   "outputs": [],
   "source": [
    "# Create a Great Expectations DataFrame from the pandas DataFrame\n",
    "ge_video_df = ge.from_pandas(data_video_df)\n",
    "\n",
    "# Initialize the expectation suite\n",
    "expectation_suite_videos = ge_video_df.get_expectation_suite()\n",
    "expectation_suite_videos.expectation_suite_name = \"video_data_suite\"\n",
    "\n",
    "# Expectation: Views, Likes, and Video Length should be non-negative\n",
    "for column in [\"views\", \"likes\", \"video_length\"]:\n",
    "    expectation_suite_videos.add_expectation(\n",
    "        ExpectationConfiguration(\n",
    "            expectation_type=\"expect_column_values_to_be_between\",\n",
    "            kwargs={\"column\": column, \"min_value\": 0, \"max_value\": None}\n",
    "        )\n",
    "    )\n",
    "\n",
    "# Expectation: Valid date format for upload_date\n",
    "expectation_suite_videos.add_expectation(\n",
    "    ExpectationConfiguration(\n",
    "        expectation_type=\"expect_column_values_to_be_dateutil_parseable\",\n",
    "        kwargs={\"column\": \"upload_date\"}\n",
    "    )\n",
    ")"
   ]
  },
  {
   "cell_type": "code",
   "execution_count": null,
   "id": "87e5556e",
   "metadata": {},
   "outputs": [],
   "source": [
    "# Create a Great Expectations DataFrame from the pandas DataFrame\n",
    "ge_interactions_df = ge.from_pandas(data_interactions_df)\n",
    "\n",
    "# Initialize the expectation suite\n",
    "expectation_suite_interactions = ge_interactions_df.get_expectation_suite()\n",
    "expectation_suite_interactions.expectation_suite_name = \"interactions_data_suite\"\n",
    "\n",
    "# Expectations: Non-null values in all columns\n",
    "for column in ge_interactions_df.columns:\n",
    "    expectation_suite_interactions.add_expectation(\n",
    "        ExpectationConfiguration(\n",
    "            expectation_type=\"expect_column_values_to_not_be_null\",\n",
    "            kwargs={\"column\": column}\n",
    "        )\n",
    "    )\n",
    "\n",
    "# Expectation: Validate interaction types\n",
    "expectation_suite_interactions.add_expectation(\n",
    "    ExpectationConfiguration(\n",
    "        expectation_type=\"expect_column_distinct_values_to_be_in_set\",\n",
    "        kwargs={\n",
    "            \"column\": \"interaction_type\",\n",
    "            \"value_set\": ['like', 'dislike', 'view', 'comment', 'share', 'skip']\n",
    "        }\n",
    "    )\n",
    ")\n",
    "\n",
    "# Expectation: Positive watch time\n",
    "expectation_suite_interactions.add_expectation(\n",
    "    ExpectationConfiguration(\n",
    "        expectation_type=\"expect_column_values_to_be_between\",\n",
    "        kwargs={\"column\": \"watch_time\", \"min_value\": 0}\n",
    "    )\n",
    ")"
   ]
  },
  {
   "cell_type": "markdown",
   "id": "06368b8b",
   "metadata": {},
   "source": [
    "## <span style=\"color:#ff5f27\">🔮 Connect to Hopsworks Feature Store </span>"
   ]
  },
  {
   "cell_type": "code",
   "execution_count": null,
   "id": "602d3d75",
   "metadata": {},
   "outputs": [],
   "source": [
    "import hopsworks\n",
    "\n",
    "project = hopsworks.login()\n",
    "\n",
    "fs = project.get_feature_store()"
   ]
  },
  {
   "cell_type": "markdown",
   "id": "5a19a172",
   "metadata": {},
   "source": [
    "## <span style=\"color:#ff5f27\">🪄 Feature Group Creation </span>\n"
   ]
  },
  {
   "cell_type": "code",
   "execution_count": null,
   "id": "ee7dee55",
   "metadata": {},
   "outputs": [],
   "source": [
    "users_fg = fs.get_or_create_feature_group(\n",
    "    name=\"users\",\n",
    "    description=\"Users data.\",\n",
    "    version=1,\n",
    "    primary_key=[\"user_id\"],\n",
    "    partition_key=[\"registration_month\"],\n",
    "    event_time=\"registration_date\",\n",
    "    online_enabled=True,\n",
    "    expectation_suite=expectation_suite_users,\n",
    ")\n",
    "\n",
    "users_fg.insert(data_users_df)\n",
    "print('Done ✅')"
   ]
  },
  {
   "cell_type": "code",
   "execution_count": null,
   "id": "1612d635",
   "metadata": {},
   "outputs": [],
   "source": [
    "videos_fg = fs.get_or_create_feature_group(\n",
    "    name=\"videos\",\n",
    "    description=\"Videos data.\",\n",
    "    version=1,\n",
    "    primary_key=[\"video_id\"],\n",
    "    partition_key=[\"upload_month\"],\n",
    "    online_enabled=True,\n",
    "    event_time=\"upload_date\",\n",
    "    expectation_suite=expectation_suite_videos,\n",
    ")\n",
    "\n",
    "videos_fg.insert(data_video_df)\n",
    "print('Done ✅')"
   ]
  },
  {
   "cell_type": "code",
   "execution_count": null,
   "id": "aac44fb8",
   "metadata": {},
   "outputs": [],
   "source": [
    "interactions_fg = fs.get_or_create_feature_group(\n",
    "    name=\"interactions\",\n",
    "    description=\"Interactions data.\",\n",
    "    version=1,\n",
    "    primary_key=[\"interaction_id\", \"user_id\", \"video_id\"],\n",
    "    partition_key = [\"interaction_day\"],\n",
    "    online_enabled=True,\n",
    "    event_time=\"interaction_date\",\n",
    "    expectation_suite=expectation_suite_interactions,\n",
    ")\n",
    "\n",
    "interactions_fg.insert(data_interactions_df)\n",
    "print('Done ✅')"
   ]
  },
  {
   "cell_type": "code",
   "execution_count": null,
   "id": "d2cf0880",
   "metadata": {},
   "outputs": [],
   "source": [
    "user_window_agg_1h_fg = fs.get_or_create_feature_group(\n",
    "    \"user_window_agg_1h\",\n",
    "    version=1,\n",
    "    statistics_config=False,\n",
    "    primary_key=[\"user_id\"],\n",
    "    partition_key=[\"interaction_day\"],\n",
    "    event_time=\"window_end_time\",\n",
    "    online_enabled=True,\n",
    "    stream=True,\n",
    ")\n",
    "\n",
    "user_window_agg_1h_fg.insert(user_interactions_window_agg_df)"
   ]
  },
  {
   "cell_type": "code",
   "execution_count": null,
   "id": "89828507",
   "metadata": {},
   "outputs": [],
   "source": [
    "video_window_agg_1h_fg = fs.get_or_create_feature_group(\n",
    "    \"video_window_agg_1h\",\n",
    "    version=1,\n",
    "    statistics_config=False,\n",
    "    primary_key=[\"video_id\"],\n",
    "    partition_key=[\"interaction_day\"],\n",
    "    event_time=\"window_end_time\",\n",
    "    online_enabled=True,\n",
    "    stream=True,\n",
    ")\n",
    "\n",
    "video_window_agg_1h_fg.insert(video_interactions_window_agg_df)"
   ]
  },
  {
   "cell_type": "markdown",
   "id": "20a31c2b",
   "metadata": {},
   "source": [
    "## <span style=\"color:#ff5f27\">🪄 Ranking Feature Group </span>\n"
   ]
  },
  {
   "cell_type": "code",
   "execution_count": null,
   "id": "eef6fd40",
   "metadata": {},
   "outputs": [],
   "source": [
    "video_interactions_df = pd.merge(\n",
    "    data_interactions_df, \n",
    "    data_video_df, \n",
    "    on='video_id', \n",
    "    how='inner',\n",
    ")\n",
    "\n",
    "ranking_df = pd.merge(\n",
    "    video_interactions_df, \n",
    "    data_users_df, \n",
    "    on='user_id', \n",
    "    how='inner',\n",
    ")\n",
    "\n",
    "ranking_df['label'] = np.where(\n",
    "    ranking_df.interaction_type.isin(['view', 'like', 'share', 'comment']), \n",
    "    1, \n",
    "    0,\n",
    ")\n",
    "\n",
    "ranking_df.drop(\n",
    "    ['interaction_id', 'interaction_type', 'watch_time', 'interaction_date', 'upload_date', 'registration_date'], \n",
    "    axis=1,\n",
    "    inplace=True,\n",
    ")\n",
    "\n",
    "ranking_df.head()"
   ]
  },
  {
   "cell_type": "code",
   "execution_count": null,
   "id": "08a30c03",
   "metadata": {},
   "outputs": [],
   "source": [
    "ranking_fg = fs.get_or_create_feature_group(\n",
    "    name=\"ranking\",\n",
    "    description=\"Ranking Data.\",\n",
    "    version=1,\n",
    "    primary_key=[\"user_id\", \"video_id\"],\n",
    "    partition_key = [\"interaction_day\"],    \n",
    "    online_enabled=True, # why online?\n",
    ")\n",
    "\n",
    "ranking_fg.insert(ranking_df)\n",
    "print('Done ✅')"
   ]
  },
  {
   "cell_type": "markdown",
   "id": "6bcc04ea",
   "metadata": {},
   "source": [
    "---"
   ]
  }
 ],
 "metadata": {
  "kernelspec": {
   "display_name": "Python 3 (ipykernel)",
   "language": "python",
   "name": "python3"
  },
  "language_info": {
   "codemirror_mode": {
    "name": "ipython",
    "version": 3
   },
   "file_extension": ".py",
   "mimetype": "text/x-python",
   "name": "python",
   "nbconvert_exporter": "python",
   "pygments_lexer": "ipython3",
   "version": "3.10.13"
  }
 },
 "nbformat": 4,
 "nbformat_minor": 5
}
