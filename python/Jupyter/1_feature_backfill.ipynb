{
 "cells": [
  {
   "cell_type": "markdown",
   "id": "74d2c263",
   "metadata": {},
   "source": [
    "## <span style='color:#ff5f27'> 📝 Imports"
   ]
  },
  {
   "cell_type": "code",
   "execution_count": null,
   "id": "62e07d21",
   "metadata": {},
   "outputs": [],
   "source": [
    "# !pip install -r requirements.txt --quiet"
   ]
  },
  {
   "cell_type": "code",
   "execution_count": null,
   "id": "4d06a1e5",
   "metadata": {},
   "outputs": [],
   "source": [
    "import pandas as pd\n",
    "import numpy as np\n",
    "import great_expectations as ge\n",
    "from great_expectations.core import ExpectationSuite, ExpectationConfiguration\n",
    "\n",
    "from features.users import generate_users\n",
    "from features.videos import generate_video_content\n",
    "from features.interactions import generate_interactions, generate_user_interactions_window_agg, generate_video_interactions_window_agg\n",
    "from streaming import config"
   ]
  },
  {
   "cell_type": "markdown",
   "id": "6a4e0ee8",
   "metadata": {},
   "source": [
    "## <span style='color:#ff5f27'> ⚙️ Data Generation</span>\n"
   ]
  },
  {
   "cell_type": "markdown",
   "id": "5fb0d84c",
   "metadata": {},
   "source": [
    "### <span style='color:#ff5f27'> 👥 Users Data Generation</span>"
   ]
  },
  {
   "cell_type": "code",
   "execution_count": null,
   "id": "fce94dc8",
   "metadata": {},
   "outputs": [],
   "source": [
    "user_data = generate_users(\n",
    "    config.USERS_AMOUNT_HISTORICAL,\n",
    "    historical=True,\n",
    ")\n",
    "\n",
    "data_users_df = pd.DataFrame(user_data)\n",
    "data_users_df.registration_date = data_users_df.registration_date.apply(pd.to_datetime)\n",
    "data_users_df.head()"
   ]
  },
  {
   "cell_type": "code",
   "execution_count": null,
   "id": "b86e8c38",
   "metadata": {},
   "outputs": [],
   "source": [
    "data_users_df.shape"
   ]
  },
  {
   "cell_type": "markdown",
   "id": "538080dd",
   "metadata": {},
   "source": [
    "### <span style='color:#ff5f27'> 🎥 Content Data Generation</span>\n"
   ]
  },
  {
   "cell_type": "code",
   "execution_count": null,
   "id": "d4e2188c",
   "metadata": {},
   "outputs": [],
   "source": [
    "# Generate data for videos\n",
    "video_data = generate_video_content(\n",
    "    config.VIDEO_AMOUNT_HISTORICAL, \n",
    "    historical=True,\n",
    ")\n",
    "\n",
    "data_video_df = pd.DataFrame(video_data)\n",
    "data_video_df.upload_date = data_video_df.upload_date.apply(pd.to_datetime)\n",
    "\n",
    "data_video_df.head()"
   ]
  },
  {
   "cell_type": "markdown",
   "id": "a2b34c80",
   "metadata": {},
   "source": [
    "### <span style='color:#ff5f27'> 🔗 Interactions Generation</span>\n"
   ]
  },
  {
   "cell_type": "code",
   "execution_count": null,
   "id": "cf255190",
   "metadata": {},
   "outputs": [],
   "source": [
    "# Generate interactions\n",
    "interactions = generate_interactions(\n",
    "    config.INTERACTIONS_AMOUNT_HISTORICAL, \n",
    "    user_data, \n",
    "    video_data,\n",
    ")\n",
    "\n",
    "data_interactions_df = pd.DataFrame(interactions)\n",
    "data_interactions_df.interaction_date = data_interactions_df.interaction_date.apply(pd.to_datetime)\n",
    "data_interactions_df.head()"
   ]
  },
  {
   "cell_type": "code",
   "execution_count": null,
   "id": "273fc423",
   "metadata": {},
   "outputs": [],
   "source": [
    "user_interactions_window_agg = generate_user_interactions_window_agg(\n",
    "    config.INTERACTIONS_AMOUNT_HISTORICAL, \n",
    "    user_data, \n",
    "    video_data,\n",
    ")"
   ]
  },
  {
   "cell_type": "code",
   "execution_count": null,
   "id": "69f52d00",
   "metadata": {},
   "outputs": [],
   "source": [
    "user_interactions_window_agg_df = pd.DataFrame(user_interactions_window_agg)\n",
    "user_interactions_window_agg_df.window_end_time = user_interactions_window_agg_df.window_end_time.apply(pd.to_datetime)\n",
    "user_interactions_window_agg_df"
   ]
  },
  {
   "cell_type": "code",
   "execution_count": null,
   "id": "28db3e37",
   "metadata": {},
   "outputs": [],
   "source": [
    "video_interactions_window_agg = generate_video_interactions_window_agg(    \n",
    "    config.INTERACTIONS_AMOUNT_HISTORICAL, \n",
    "    user_data, \n",
    "    video_data,\n",
    ")"
   ]
  },
  {
   "cell_type": "code",
   "execution_count": null,
   "id": "0ae1ff34",
   "metadata": {},
   "outputs": [],
   "source": [
    "video_interactions_window_agg_df = pd.DataFrame(video_interactions_window_agg)\n",
    "video_interactions_window_agg_df.window_end_time = video_interactions_window_agg_df.window_end_time.apply(pd.to_datetime)\n",
    "video_interactions_window_agg_df"
   ]
  },
  {
   "cell_type": "markdown",
   "id": "022e16a5",
   "metadata": {},
   "source": [
    "## <span style=\"color:#ff5f27\">👮🏻‍♂️ Great Expectations </span>"
   ]
  },
  {
   "cell_type": "code",
   "execution_count": null,
   "id": "c1b6548a",
   "metadata": {},
   "outputs": [],
   "source": [
    "# Create a Great Expectations DataFrame from the pandas DataFrame\n",
    "ge_users_df = ge.from_pandas(data_users_df)\n",
    "\n",
    "# Initialize the expectation suite\n",
    "expectation_suite_users = ge_users_df.get_expectation_suite()\n",
    "expectation_suite_users.expectation_suite_name = \"user_data_suite\"\n",
    "\n",
    "# Expectation: Age should be between 0 and 120\n",
    "expectation_suite_users.add_expectation(\n",
    "    ExpectationConfiguration(\n",
    "        expectation_type=\"expect_column_values_to_be_between\",\n",
    "        kwargs={\"column\": \"age\", \"min_value\": 12, \"max_value\": 100}\n",
    "    )\n",
    ")\n",
    "\n",
    "# Expectations: Columns should not have null values\n",
    "for column in ge_users_df.columns:\n",
    "    expectation_suite_users.add_expectation(\n",
    "        ExpectationConfiguration(\n",
    "            expectation_type=\"expect_column_values_to_not_be_null\",\n",
    "            kwargs={\"column\": column}\n",
    "        )\n",
    "    )\n",
    "\n",
    "# Expectation: Gender should only contain specific values\n",
    "expectation_suite_users.add_expectation(\n",
    "    ExpectationConfiguration(\n",
    "        expectation_type=\"expect_column_distinct_values_to_be_in_set\",\n",
    "        kwargs={\"column\": \"gender\", \"value_set\": [\"Male\", \"Female\", \"Other\"]}\n",
    "    )\n",
    ")"
   ]
  },
  {
   "cell_type": "code",
   "execution_count": null,
   "id": "1b5cc2d5",
   "metadata": {},
   "outputs": [],
   "source": [
    "# Create a Great Expectations DataFrame from the pandas DataFrame\n",
    "ge_video_df = ge.from_pandas(data_video_df)\n",
    "\n",
    "# Initialize the expectation suite\n",
    "expectation_suite_videos = ge_video_df.get_expectation_suite()\n",
    "expectation_suite_videos.expectation_suite_name = \"video_data_suite\"\n",
    "\n",
    "# Expectation: Views, Likes, and Video Length should be non-negative\n",
    "for column in [\"video_length\"]:\n",
    "    expectation_suite_videos.add_expectation(\n",
    "        ExpectationConfiguration(\n",
    "            expectation_type=\"expect_column_values_to_be_between\",\n",
    "            kwargs={\"column\": column, \"min_value\": 0, \"max_value\": None}\n",
    "        )\n",
    "    )\n",
    "\n",
    "# Expectation: Valid date format for upload_date\n",
    "expectation_suite_videos.add_expectation(\n",
    "    ExpectationConfiguration(\n",
    "        expectation_type=\"expect_column_values_to_be_dateutil_parseable\",\n",
    "        kwargs={\"column\": \"upload_date\"}\n",
    "    )\n",
    ")"
   ]
  },
  {
   "cell_type": "code",
   "execution_count": null,
   "id": "87e5556e",
   "metadata": {},
   "outputs": [],
   "source": [
    "# Create a Great Expectations DataFrame from the pandas DataFrame\n",
    "ge_interactions_df = ge.from_pandas(data_interactions_df)\n",
    "\n",
    "# Initialize the expectation suite\n",
    "expectation_suite_interactions = ge_interactions_df.get_expectation_suite()\n",
    "expectation_suite_interactions.expectation_suite_name = \"interactions_data_suite\"\n",
    "\n",
    "# Expectations: Non-null values in all columns\n",
    "for column in ge_interactions_df.columns:\n",
    "    expectation_suite_interactions.add_expectation(\n",
    "        ExpectationConfiguration(\n",
    "            expectation_type=\"expect_column_values_to_not_be_null\",\n",
    "            kwargs={\"column\": column}\n",
    "        )\n",
    "    )\n",
    "\n",
    "# Expectation: Validate interaction types\n",
    "expectation_suite_interactions.add_expectation(\n",
    "    ExpectationConfiguration(\n",
    "        expectation_type=\"expect_column_distinct_values_to_be_in_set\",\n",
    "        kwargs={\n",
    "            \"column\": \"interaction_type\",\n",
    "            \"value_set\": ['like', 'dislike', 'view', 'comment', 'share', 'skip']\n",
    "        }\n",
    "    )\n",
    ")\n",
    "\n",
    "# Expectation: Positive watch time\n",
    "expectation_suite_interactions.add_expectation(\n",
    "    ExpectationConfiguration(\n",
    "        expectation_type=\"expect_column_values_to_be_between\",\n",
    "        kwargs={\"column\": \"watch_time\", \"min_value\": 0}\n",
    "    )\n",
    ")"
   ]
  },
  {
   "cell_type": "markdown",
   "id": "06368b8b",
   "metadata": {},
   "source": [
    "## <span style=\"color:#ff5f27\">🔮 Connect to Hopsworks Feature Store </span>"
   ]
  },
  {
   "cell_type": "code",
   "execution_count": null,
   "id": "602d3d75",
   "metadata": {},
   "outputs": [],
   "source": [
    "import hopsworks\n",
    "\n",
    "project = hopsworks.login()\n",
    "\n",
    "fs = project.get_feature_store()"
   ]
  },
  {
   "cell_type": "markdown",
   "id": "5a19a172",
   "metadata": {},
   "source": [
    "## <span style=\"color:#ff5f27\">🪄 Feature Group Creation </span>\n"
   ]
  },
  {
   "cell_type": "code",
   "execution_count": null,
   "id": "ee7dee55",
   "metadata": {},
   "outputs": [],
   "source": [
    "users_fg = fs.get_or_create_feature_group(\n",
    "    name=\"users\",\n",
    "    version=1,\n",
    "    description=\"Users data.\",\n",
    "    primary_key=[\"user_id\"],\n",
    "    partition_key=[\"registration_month\"],\n",
    "    event_time=\"registration_date\",\n",
    "    online_enabled=True,\n",
    "    expectation_suite=expectation_suite_users,\n",
    ")\n",
    "\n",
    "users_fg.insert(data_users_df)\n",
    "print('Done ✅')"
   ]
  },
  {
   "cell_type": "code",
   "execution_count": null,
   "id": "4548f55d-8941-4655-992c-7b672c0942b2",
   "metadata": {},
   "outputs": [],
   "source": [
    "feature_descriptions = [\n",
    "    {\"name\": \"user_id\", \"description\": \"Unique identifier for each user.\"},\n",
    "    {\"name\": \"gender\", \"description\": \"Gender of the user.\"},\n",
    "    {\"name\": \"age\", \"description\": \"Age of the user.\"},\n",
    "    {\"name\": \"country\", \"description\": \"Country of Residence of the user.\"},\n",
    "    {\"name\": \"registration_date\", \"description\": \"Date of registration.\"},\n",
    "    {\"name\": \"registration_month\", \"description\": \"Month of registration derived from registration_date.\"},\n",
    "]\n",
    "\n",
    "for desc in feature_descriptions: \n",
    "    users_fg.update_feature_description(desc[\"name\"], desc[\"description\"])"
   ]
  },
  {
   "cell_type": "markdown",
   "id": "6710248a-26c4-48a6-a1a1-c9764774b3bd",
   "metadata": {},
   "source": [
    "Define a [tag](https://docs.hopsworks.ai/latest/user_guides/fs/tags/tags/)  schema and attach to feature groups. \n",
    "\n",
    "https://docs.hopsworks.ai/latest/user_guides/fs/tags/tags/\n",
    "\n",
    "```\n",
    "{\n",
    "    \"$schema\": \"http://json-schema.org/draft-07/schema#\",\n",
    "    \"type\": \"object\",\n",
    "    \"properties\": {\n",
    "        \"org_level\": {\n",
    "            \"type\": \"string\",\n",
    "            \"description\": \"Organizational level\"\n",
    "        },\n",
    "        \"project\": {\n",
    "            \"type\": \"string\",\n",
    "            \"description\": \"Project Name\"\n",
    "        },\n",
    "        \"firewall\": {\n",
    "            \"type\": \"string\",\n",
    "            \"description\": \"Inside/Outside Firewall\"\n",
    "        },\n",
    "        \"security_review\": {\n",
    "            \"type\": \"boolean\",\n",
    "            \"description\": \"Whether or not security review was completed \"\n",
    "        },\n",
    "        \"reliability\": {\n",
    "            \"type\": \"string\",\n",
    "            \"description\": \"Reliability\"\n",
    "        },\n",
    "        \"expected_reusability\": {\n",
    "            \"type\": \"string\",\n",
    "            \"description\": \"Expected Reusability\"\n",
    "        },\n",
    "        \"expected_uplift\": {\n",
    "            \"type\": \"string\",\n",
    "            \"description\": \"Expected Uplift\"\n",
    "        },\n",
    "        \"draft_publish\": {\n",
    "            \"type\": \"string\",\n",
    "            \"description\": \"Draft/Publish\"\n",
    "        },\n",
    "        \"environment\": {\n",
    "            \"type\": \"string\",\n",
    "            \"description\": \"Deployment environment\"\n",
    "        },\n",
    "        \"business_function\": {\n",
    "            \"type\": \"string\",\n",
    "            \"description\": \"Business Function responsible for the data\"\n",
    "        },\n",
    "        \"division\": {\n",
    "            \"type\": \"string\",\n",
    "            \"description\": \"Division responsible for the data\"\n",
    "        },\n",
    "        \"data_source\": {\n",
    "            \"type\": \"string\",\n",
    "            \"description\": \"Data Source of the feature pipeline\"\n",
    "        },\n",
    "        \"pii\": {\n",
    "            \"type\": \"boolean\",\n",
    "            \"description\": \"Whether or not data contains PII\"\n",
    "        },\n",
    "        \"data_sensitivity\": {\n",
    "            \"type\": \"string\",\n",
    "            \"description\": \"Data Sensitivity (High, Medium, Low)\"\n",
    "        },\n",
    "        \"business_unit\": {\n",
    "            \"type\": \"string\",\n",
    "            \"description\": \"Business unit\"\n",
    "        }\n",
    "    },\n",
    "    \"required\": [\n",
    "        \"org_level\",\n",
    "        \"project\",\n",
    "        \"firewall\",\n",
    "        \"security_review\",\n",
    "        \"reliability\",\n",
    "        \"expected_reusability\",\n",
    "        \"expected_uplift\",\n",
    "        \"draft_publish\",\n",
    "        \"environment\",\n",
    "        \"business_function\",\n",
    "        \"division\",\n",
    "        \"data_source\",\n",
    "        \"pii\",\n",
    "        \"data_sensitivity\",\n",
    "        \"business_unit\"\n",
    "    ],\n",
    "    \"additionalProperties\": false\n",
    "}\n",
    "```"
   ]
  },
  {
   "cell_type": "code",
   "execution_count": null,
   "id": "940e9a1f-2533-4243-af2c-7dbd2db567a4",
   "metadata": {},
   "outputs": [],
   "source": [
    "# Define tag values\n",
    "tag = {\n",
    "        \"org_level\": \"Managing Director\",\n",
    "        \"project\": \"MDLC\",\n",
    "        \"firewall\": \"Inside\",\n",
    "        \"security_review\": True,\n",
    "        \"reliability\": \"Extreme\",\n",
    "        \"expected_reusability\": \"Extreme\",\n",
    "        \"expected_uplift\": \"Extreme\",\n",
    "        \"draft_publish\": \"Publish\",\n",
    "        \"environment\": \"Production\",\n",
    "        \"business_function\": \"Sales\",\n",
    "        \"division\": \"CCB\",\n",
    "        \"data_source\": \"Data Warehouse\",\n",
    "        \"pii\": True,\n",
    "        \"data_sensitivity\": \"High\",\n",
    "        \"business_unit\": \"Credit Cards\"\n",
    "    }\n",
    "\n",
    "# Attach the tag\n",
    "users_fg.add_tag(\"data_privacy_ownership\", tag) "
   ]
  },
  {
   "cell_type": "code",
   "execution_count": null,
   "id": "1612d635",
   "metadata": {},
   "outputs": [],
   "source": [
    "videos_fg = fs.get_or_create_feature_group(\n",
    "    name=\"videos\",\n",
    "    version=1,\n",
    "    description=\"Videos data.\",\n",
    "    primary_key=[\"video_id\"],\n",
    "    partition_key=[\"upload_month\"],\n",
    "    online_enabled=True,\n",
    "    event_time=\"upload_date\",\n",
    "    expectation_suite=expectation_suite_videos,\n",
    ")\n",
    "\n",
    "videos_fg.insert(data_video_df)\n",
    "print('Done ✅')"
   ]
  },
  {
   "cell_type": "code",
   "execution_count": null,
   "id": "85b5390b-02a3-4a18-b08f-d6d910115464",
   "metadata": {},
   "outputs": [],
   "source": [
    "feature_descriptions = [\n",
    "    {\"name\": \"video_id\", \"description\": \"Identifier for the video.\"},\n",
    "    {\"name\": \"category_id\", \"description\": \"Id of the video category.\"},   \n",
    "    {\"name\": \"category\", \"description\": \"Name of the video category.\"},\n",
    "    {\"name\": \"video_length\", \"description\": \"Video length in sconds.\"},\n",
    "    {\"name\": \"upload_date\", \"description\": \"Date of upload for the video.\"},\n",
    "    {\"name\": \"upload_month\", \"description\": \"Month of upload for the video, derived from upload_date.\"},\n",
    "]\n",
    "\n",
    "for desc in feature_descriptions: \n",
    "    videos_fg.update_feature_description(desc[\"name\"], desc[\"description\"])"
   ]
  },
  {
   "cell_type": "code",
   "execution_count": null,
   "id": "dbd06976-3d90-4955-bd0c-23e8f07eb978",
   "metadata": {},
   "outputs": [],
   "source": [
    "# Define tag values\n",
    "tag = {\n",
    "        \"org_level\": \"Managing Director\",\n",
    "        \"project\": \"MDLC\",\n",
    "        \"firewall\": \"Inside\",\n",
    "        \"security_review\": True,\n",
    "        \"reliability\": \"Extreme\",\n",
    "        \"expected_reusability\": \"Extreme\",\n",
    "        \"expected_uplift\": \"Extreme\",\n",
    "        \"draft_publish\": \"Publish\",\n",
    "        \"environment\": \"Production\",\n",
    "        \"business_function\": \"Sales\",\n",
    "        \"division\": \"CCB\",\n",
    "        \"data_source\": \"Data Warehouse\",\n",
    "        \"pii\": False,\n",
    "        \"data_sensitivity\": \"Low\",\n",
    "        \"business_unit\": \"Credit Cards\"\n",
    "    }\n",
    "\n",
    "# Attach the tag\n",
    "videos_fg.add_tag(\"data_privacy_ownership\", tag) "
   ]
  },
  {
   "cell_type": "code",
   "execution_count": null,
   "id": "aac44fb8",
   "metadata": {},
   "outputs": [],
   "source": [
    "interactions_fg = fs.get_or_create_feature_group(\n",
    "    name=\"interactions\",\n",
    "    version=1,\n",
    "    description=\"Interactions data.\",    \n",
    "    primary_key=[\"interaction_id\", \"user_id\", \"video_id\"],\n",
    "    partition_key = [\"interaction_month\"],\n",
    "    online_enabled=True,\n",
    "    event_time=\"interaction_date\",\n",
    "    expectation_suite=expectation_suite_interactions,\n",
    ")\n",
    "\n",
    "interactions_fg.insert(data_interactions_df)\n",
    "print('Done ✅')"
   ]
  },
  {
   "cell_type": "code",
   "execution_count": null,
   "id": "c824ed30-6478-40c4-ba61-259169897a4b",
   "metadata": {},
   "outputs": [],
   "source": [
    "feature_descriptions = [\n",
    "    {\"name\": \"interaction_id\", \"description\": \"Unique id for the interaction\"},\n",
    "    {\"name\": \"user_id\", \"description\": \"Unique identifier for each user.\"},\n",
    "    {\"name\": \"video_id\", \"description\": \"Identifier for the video.\"},\n",
    "    {\"name\": \"category_id\", \"description\": \"Id of the video category.\"},    \n",
    "    {\"name\": \"interaction_type\", \"description\": \"Type of interaction\"},\n",
    "    {\"name\": \"watch_time\", \"description\": \"Time in seconds how long user watched the video.\"},\n",
    "    {\"name\": \"interaction_date\", \"description\": \"Date of inteaction.\"},\n",
    "    {\"name\": \"interaction_month\", \"description\": \"Month of interaction, derived from interaction_date.\"}\n",
    "]\n",
    "\n",
    "for desc in feature_descriptions: \n",
    "    interactions_fg.update_feature_description(desc[\"name\"], desc[\"description\"])"
   ]
  },
  {
   "cell_type": "code",
   "execution_count": null,
   "id": "b2ea0558-24fc-4b4d-a2e2-30219d19af14",
   "metadata": {},
   "outputs": [],
   "source": [
    "# Define tag values\n",
    "tag = {\n",
    "        \"org_level\": \"Managing Director\",\n",
    "        \"project\": \"MDLC\",\n",
    "        \"firewall\": \"Inside\",\n",
    "        \"security_review\": True,\n",
    "        \"reliability\": \"Extreme\",\n",
    "        \"expected_reusability\": \"Extreme\",\n",
    "        \"expected_uplift\": \"Extreme\",\n",
    "        \"draft_publish\": \"Publish\",\n",
    "        \"environment\": \"Production\",\n",
    "        \"business_function\": \"Sales\",\n",
    "        \"division\": \"CCB\",\n",
    "        \"data_source\": \"Kafka\",\n",
    "        \"pii\": True,\n",
    "        \"data_sensitivity\": \"High\",\n",
    "        \"business_unit\": \"Credit Cards\"\n",
    "    }\n",
    "\n",
    "# Attach the tag\n",
    "interactions_fg.add_tag(\"data_privacy_ownership\", tag) "
   ]
  },
  {
   "cell_type": "code",
   "execution_count": null,
   "id": "d2cf0880",
   "metadata": {},
   "outputs": [],
   "source": [
    "user_window_agg_1h_fg = fs.get_or_create_feature_group(\n",
    "    \"user_window_agg_1h\",\n",
    "    version=1,\n",
    "    description=\"User activity window aggregation.\",        \n",
    "    statistics_config=False,\n",
    "    primary_key=[\"user_id\"],\n",
    "    partition_key=[\"interaction_month\"],\n",
    "    event_time=\"window_end_time\",\n",
    "    online_enabled=True,\n",
    "    stream=True,\n",
    ")\n",
    "\n",
    "user_window_agg_1h_fg.insert(user_interactions_window_agg_df)"
   ]
  },
  {
   "cell_type": "code",
   "execution_count": null,
   "id": "aab95632-f462-4fa2-bdca-7e4707324286",
   "metadata": {},
   "outputs": [],
   "source": [
    "feature_descriptions = [    \n",
    "    {\"name\": \"user_id\", \"description\": \"Unique identifier for each user.\"},\n",
    "    {\"name\": \"category_id\", \"description\": \"Id of the video category.\"},   \n",
    "    {\"name\": \"window_end_time\", \"description\": \"End of the specified time window where interaction were aggregated.\"},\n",
    "    {\"name\": \"interaction_month\", \"description\": \"Month of the end of the specified time window where interaction were aggregated. Derived from window_end_time\"},\n",
    "    {\"name\": \"like_count\", \"description\": \"Number of likes video category got from the user during a specified time window.\"},\n",
    "    {\"name\": \"dislike_count\", \"description\": \"Number of dislikes video category got from the user during a specified time window.\"},\n",
    "    {\"name\": \"view_count\", \"description\": \"Number of views over video category got from the user during a specified time window.\"},\n",
    "    {\"name\": \"comment_count\", \"description\": \"Number of comments video category got from the user during a specified time window.\"},\n",
    "    {\"name\": \"share_count\", \"description\": \"Number of likes over video category got from the user during a specified time window.\"},\n",
    "    {\"name\": \"skip_count\", \"description\": \"Number of times video category was skiped by the user during a specified time window.\"},\n",
    "    {\"name\": \"total_watch_time\", \"description\": \"Total time in seconds video category was watched by the user during a specified time window.\"},\n",
    "]\n",
    "\n",
    "for desc in feature_descriptions: \n",
    "    user_window_agg_1h_fg.update_feature_description(desc[\"name\"], desc[\"description\"])"
   ]
  },
  {
   "cell_type": "code",
   "execution_count": null,
   "id": "3623730e-621a-46fc-b304-b4a13f157a9f",
   "metadata": {},
   "outputs": [],
   "source": [
    "# Define tag values\n",
    "tag = {\n",
    "        \"org_level\": \"Managing Director\",\n",
    "        \"project\": \"MDLC\",\n",
    "        \"firewall\": \"Inside\",\n",
    "        \"security_review\": True,\n",
    "        \"reliability\": \"Extreme\",\n",
    "        \"expected_reusability\": \"Extreme\",\n",
    "        \"expected_uplift\": \"Extreme\",\n",
    "        \"draft_publish\": \"Publish\",\n",
    "        \"environment\": \"Production\",\n",
    "        \"business_function\": \"Sales\",\n",
    "        \"division\": \"CCB\",\n",
    "        \"data_source\": \"Kafka\",\n",
    "        \"pii\": True,\n",
    "        \"data_sensitivity\": \"High\",\n",
    "        \"business_unit\": \"Credit Cards\"\n",
    "    }\n",
    "\n",
    "# Attach the tag\n",
    "user_window_agg_1h_fg.add_tag(\"data_privacy_ownership\", tag) "
   ]
  },
  {
   "cell_type": "code",
   "execution_count": null,
   "id": "89828507",
   "metadata": {},
   "outputs": [],
   "source": [
    "video_window_agg_1h_fg = fs.get_or_create_feature_group(\n",
    "    \"video_window_agg_1h\",\n",
    "    version=1,\n",
    "    description=\"Egagement data over window aggregation.\",            \n",
    "    statistics_config=False,\n",
    "    primary_key=[\"video_id\"],\n",
    "    partition_key=[\"interaction_month\"],\n",
    "    event_time=\"window_end_time\",\n",
    "    online_enabled=True,\n",
    "    stream=True,\n",
    ")\n",
    "\n",
    "video_window_agg_1h_fg.insert(video_interactions_window_agg_df)"
   ]
  },
  {
   "cell_type": "code",
   "execution_count": null,
   "id": "bd494ca2-74cb-4bd9-8ccd-699252c0063a",
   "metadata": {},
   "outputs": [],
   "source": [
    "feature_descriptions = [    \n",
    "    {\"name\": \"video_id\", \"description\": \"Identifier for the video.\"},\n",
    "    {\"name\": \"category_id\", \"description\": \"Id of the video category.\"},   \n",
    "    {\"name\": \"window_end_time\", \"description\": \"End of the specified time window where interaction were aggregated.\"},\n",
    "    {\"name\": \"interaction_month\", \"description\": \"Month of the end of the specified time window where interaction were aggregated. Derived from window_end_time\"},\n",
    "    {\"name\": \"like_count\", \"description\": \"Number of likes video got over a specified time window.\"},\n",
    "    {\"name\": \"dislike_count\", \"description\": \"Number of dislikes video got over a specified time window.\"},\n",
    "    {\"name\": \"view_count\", \"description\": \"Number of views video got over a specified time window.\"},\n",
    "    {\"name\": \"comment_count\", \"description\": \"Number of comments video got over a specified time window.\"},\n",
    "    {\"name\": \"share_count\", \"description\": \"Number of likes over got over a specified time window.\"},\n",
    "    {\"name\": \"skip_count\", \"description\": \"Number of times video was skiped over a specified time window.\"},\n",
    "    {\"name\": \"total_watch_time\", \"description\": \"Total time in seconds video was watched over a specified time window.\"},\n",
    "]\n",
    "\n",
    "for desc in feature_descriptions: \n",
    "    video_window_agg_1h_fg.update_feature_description(desc[\"name\"], desc[\"description\"])"
   ]
  },
  {
   "cell_type": "code",
   "execution_count": null,
   "id": "2463f23e-3640-4718-90de-0a9a394f821b",
   "metadata": {},
   "outputs": [],
   "source": [
    "# Define tag values\n",
    "tag = {\n",
    "        \"org_level\": \"Managing Director\",\n",
    "        \"project\": \"MDLC\",\n",
    "        \"firewall\": \"Inside\",\n",
    "        \"security_review\": True,\n",
    "        \"reliability\": \"Extreme\",\n",
    "        \"expected_reusability\": \"Extreme\",\n",
    "        \"expected_uplift\": \"Extreme\",\n",
    "        \"draft_publish\": \"Publish\",\n",
    "        \"environment\": \"Production\",\n",
    "        \"business_function\": \"Sales\",\n",
    "        \"division\": \"CCB\",\n",
    "        \"data_source\": \"Kafka\",\n",
    "        \"pii\": False,\n",
    "        \"data_sensitivity\": \"Low\",\n",
    "        \"business_unit\": \"Credit Cards\"\n",
    "    }\n",
    "\n",
    "# Attach the tag\n",
    "video_window_agg_1h_fg.add_tag(\"data_privacy_ownership\", tag) "
   ]
  },
  {
   "cell_type": "markdown",
   "id": "20a31c2b",
   "metadata": {},
   "source": [
    "## <span style=\"color:#ff5f27\">🪄 Ranking Feature Group </span>"
   ]
  },
  {
   "cell_type": "code",
   "execution_count": null,
   "id": "02fde0c6-2816-40c3-8792-d23d8a122466",
   "metadata": {},
   "outputs": [],
   "source": [
    "data_interactions_df.drop(['category_id'],\n",
    "                                axis=1,\n",
    "                                inplace=True,                             \n",
    "                             )"
   ]
  },
  {
   "cell_type": "code",
   "execution_count": null,
   "id": "eef6fd40",
   "metadata": {},
   "outputs": [],
   "source": [
    "video_interactions_df = pd.merge(\n",
    "    data_interactions_df, \n",
    "    data_video_df, \n",
    "    on='video_id', \n",
    "    how='inner',\n",
    ")\n",
    "\n",
    "ranking_df = pd.merge(\n",
    "    video_interactions_df, \n",
    "    data_users_df, \n",
    "    on='user_id', \n",
    "    how='inner',\n",
    ")\n",
    "\n",
    "ranking_df['label'] = np.where(\n",
    "    ranking_df.interaction_type.isin(['view', 'like', 'share', 'comment']), \n",
    "    1, \n",
    "    0,\n",
    ")\n",
    "\n",
    "ranking_df.drop(\n",
    "    ['interaction_id', 'interaction_type', 'watch_time', 'interaction_date', 'upload_date', 'registration_date', 'registration_month', 'upload_month', 'category'], \n",
    "    axis=1,\n",
    "    inplace=True,\n",
    ")\n",
    "\n",
    "ranking_df.head()"
   ]
  },
  {
   "cell_type": "code",
   "execution_count": null,
   "id": "08a30c03",
   "metadata": {},
   "outputs": [],
   "source": [
    "ranking_fg = fs.get_or_create_feature_group(\n",
    "    name=\"ranking\",\n",
    "    description=\"Ranking Data.\",\n",
    "    version=1,\n",
    "    primary_key=[\"user_id\", \"video_id\"],\n",
    "    partition_key = [\"interaction_month\"],    \n",
    "    online_enabled=False, \n",
    ")\n",
    "\n",
    "ranking_fg.insert(ranking_df)\n",
    "print('Done ✅')"
   ]
  },
  {
   "cell_type": "code",
   "execution_count": null,
   "id": "745641e4-75e8-43cb-b7f8-41a1c994c673",
   "metadata": {},
   "outputs": [],
   "source": [
    "feature_descriptions = [\n",
    "    {\"name\": \"user_id\", \"description\": \"Unique identifier for each user.\"},\n",
    "    {\"name\": \"video_id\", \"description\": \"Identifier for the video.\"},\n",
    "    {\"name\": \"category_id\", \"description\": \"Id of the video category.\"},   \n",
    "    {\"name\": \"interaction_month\", \"description\": \"Month of interaction, derived from interaction_date.\"}, \n",
    "    {\"name\": \"video_length\", \"description\": \"Video length in sconds.\"},\n",
    "    {\"name\": \"gender\", \"description\": \"Gender of the user.\"},\n",
    "    {\"name\": \"age\", \"description\": \"Age of the user.\"},\n",
    "    {\"name\": \"country\", \"description\": \"Country of Residence of the user.\"},\n",
    "    {\"name\": \"label\", \"description\": \"Label indicating whether the article was purchased (1) or not (0).\"},\n",
    "]\n",
    "\n",
    "for desc in feature_descriptions: \n",
    "    ranking_fg.update_feature_description(desc[\"name\"], desc[\"description\"])"
   ]
  },
  {
   "cell_type": "markdown",
   "id": "6bcc04ea",
   "metadata": {},
   "source": [
    "---"
   ]
  }
 ],
 "metadata": {
  "kernelspec": {
   "display_name": "Python 3 (ipykernel)",
   "language": "python",
   "name": "python3"
  },
  "language_info": {
   "codemirror_mode": {
    "name": "ipython",
    "version": 3
   },
   "file_extension": ".py",
   "mimetype": "text/x-python",
   "name": "python",
   "nbconvert_exporter": "python",
   "pygments_lexer": "ipython3",
   "version": "3.10.13"
  }
 },
 "nbformat": 4,
 "nbformat_minor": 5
}
