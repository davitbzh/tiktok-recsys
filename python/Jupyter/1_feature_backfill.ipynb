{
 "cells": [
  {
   "cell_type": "markdown",
   "id": "74d2c263",
   "metadata": {},
   "source": [
    "## <span style='color:#ff5f27'> 📝 Imports"
   ]
  },
  {
   "cell_type": "code",
   "execution_count": null,
   "id": "62e07d21",
   "metadata": {},
   "outputs": [],
   "source": [
    "# !pip install -r requirements.txt --quiet"
   ]
  },
  {
   "cell_type": "code",
   "execution_count": 1,
   "id": "4d06a1e5",
   "metadata": {},
   "outputs": [],
   "source": [
    "import pandas as pd\n",
    "import numpy as np\n",
    "import great_expectations as ge\n",
    "from great_expectations.core import ExpectationSuite, ExpectationConfiguration\n",
    "\n",
    "from features.users import generate_users\n",
    "from features.videos import generate_video_content\n",
    "from features.interactions import generate_interactions, generate_user_interactions_window_agg, generate_video_interactions_window_agg\n",
    "from streaming import config"
   ]
  },
  {
   "cell_type": "markdown",
   "id": "6a4e0ee8",
   "metadata": {},
   "source": [
    "## <span style='color:#ff5f27'> ⚙️ Data Generation</span>\n"
   ]
  },
  {
   "cell_type": "markdown",
   "id": "5fb0d84c",
   "metadata": {},
   "source": [
    "### <span style='color:#ff5f27'> 👥 Users Data Generation</span>"
   ]
  },
  {
   "cell_type": "code",
   "execution_count": 2,
   "id": "fce94dc8",
   "metadata": {},
   "outputs": [
    {
     "data": {
      "text/html": [
       "<div>\n",
       "<style scoped>\n",
       "    .dataframe tbody tr th:only-of-type {\n",
       "        vertical-align: middle;\n",
       "    }\n",
       "\n",
       "    .dataframe tbody tr th {\n",
       "        vertical-align: top;\n",
       "    }\n",
       "\n",
       "    .dataframe thead th {\n",
       "        text-align: right;\n",
       "    }\n",
       "</style>\n",
       "<table border=\"1\" class=\"dataframe\">\n",
       "  <thead>\n",
       "    <tr style=\"text-align: right;\">\n",
       "      <th></th>\n",
       "      <th>user_id</th>\n",
       "      <th>gender</th>\n",
       "      <th>age</th>\n",
       "      <th>country</th>\n",
       "      <th>registration_date</th>\n",
       "      <th>registration_month</th>\n",
       "    </tr>\n",
       "  </thead>\n",
       "  <tbody>\n",
       "    <tr>\n",
       "      <th>0</th>\n",
       "      <td>CS970A</td>\n",
       "      <td>Other</td>\n",
       "      <td>29</td>\n",
       "      <td>Madagascar</td>\n",
       "      <td>2023-09-22 09:34:00</td>\n",
       "      <td>2023-09</td>\n",
       "    </tr>\n",
       "    <tr>\n",
       "      <th>1</th>\n",
       "      <td>TR063X</td>\n",
       "      <td>Male</td>\n",
       "      <td>23</td>\n",
       "      <td>Bermuda</td>\n",
       "      <td>2024-01-18 09:34:00</td>\n",
       "      <td>2024-01</td>\n",
       "    </tr>\n",
       "    <tr>\n",
       "      <th>2</th>\n",
       "      <td>MM136F</td>\n",
       "      <td>Other</td>\n",
       "      <td>87</td>\n",
       "      <td>Libya</td>\n",
       "      <td>2023-05-12 09:34:00</td>\n",
       "      <td>2023-05</td>\n",
       "    </tr>\n",
       "    <tr>\n",
       "      <th>3</th>\n",
       "      <td>ZO655G</td>\n",
       "      <td>Male</td>\n",
       "      <td>52</td>\n",
       "      <td>Svalbard &amp; Jan Mayen</td>\n",
       "      <td>2022-11-13 09:34:00</td>\n",
       "      <td>2022-11</td>\n",
       "    </tr>\n",
       "    <tr>\n",
       "      <th>4</th>\n",
       "      <td>TG286Q</td>\n",
       "      <td>Female</td>\n",
       "      <td>36</td>\n",
       "      <td>Paraguay</td>\n",
       "      <td>2023-09-01 09:34:00</td>\n",
       "      <td>2023-09</td>\n",
       "    </tr>\n",
       "  </tbody>\n",
       "</table>\n",
       "</div>"
      ],
      "text/plain": [
       "  user_id  gender  age               country   registration_date  \\\n",
       "0  CS970A   Other   29            Madagascar 2023-09-22 09:34:00   \n",
       "1  TR063X    Male   23               Bermuda 2024-01-18 09:34:00   \n",
       "2  MM136F   Other   87                 Libya 2023-05-12 09:34:00   \n",
       "3  ZO655G    Male   52  Svalbard & Jan Mayen 2022-11-13 09:34:00   \n",
       "4  TG286Q  Female   36              Paraguay 2023-09-01 09:34:00   \n",
       "\n",
       "  registration_month  \n",
       "0            2023-09  \n",
       "1            2024-01  \n",
       "2            2023-05  \n",
       "3            2022-11  \n",
       "4            2023-09  "
      ]
     },
     "execution_count": 2,
     "metadata": {},
     "output_type": "execute_result"
    }
   ],
   "source": [
    "user_data = generate_users(\n",
    "    config.USERS_AMOUNT_HISTORICAL,\n",
    "    historical=True,\n",
    ")\n",
    "\n",
    "data_users_df = pd.DataFrame(user_data)\n",
    "data_users_df.registration_date = data_users_df.registration_date.apply(pd.to_datetime)\n",
    "data_users_df.head()"
   ]
  },
  {
   "cell_type": "code",
   "execution_count": 3,
   "id": "b86e8c38",
   "metadata": {},
   "outputs": [
    {
     "data": {
      "text/plain": [
       "(25000, 6)"
      ]
     },
     "execution_count": 3,
     "metadata": {},
     "output_type": "execute_result"
    }
   ],
   "source": [
    "data_users_df.shape"
   ]
  },
  {
   "cell_type": "markdown",
   "id": "538080dd",
   "metadata": {},
   "source": [
    "### <span style='color:#ff5f27'> 🎥 Content Data Generation</span>\n"
   ]
  },
  {
   "cell_type": "code",
   "execution_count": 4,
   "id": "d4e2188c",
   "metadata": {},
   "outputs": [
    {
     "data": {
      "text/html": [
       "<div>\n",
       "<style scoped>\n",
       "    .dataframe tbody tr th:only-of-type {\n",
       "        vertical-align: middle;\n",
       "    }\n",
       "\n",
       "    .dataframe tbody tr th {\n",
       "        vertical-align: top;\n",
       "    }\n",
       "\n",
       "    .dataframe thead th {\n",
       "        text-align: right;\n",
       "    }\n",
       "</style>\n",
       "<table border=\"1\" class=\"dataframe\">\n",
       "  <thead>\n",
       "    <tr style=\"text-align: right;\">\n",
       "      <th></th>\n",
       "      <th>video_id</th>\n",
       "      <th>category</th>\n",
       "      <th>views</th>\n",
       "      <th>likes</th>\n",
       "      <th>video_length</th>\n",
       "      <th>upload_date</th>\n",
       "      <th>upload_month</th>\n",
       "    </tr>\n",
       "  </thead>\n",
       "  <tbody>\n",
       "    <tr>\n",
       "      <th>0</th>\n",
       "      <td>9YU52H</td>\n",
       "      <td>Sports</td>\n",
       "      <td>119401</td>\n",
       "      <td>87940</td>\n",
       "      <td>232</td>\n",
       "      <td>2023-03-29 09:34:03</td>\n",
       "      <td>2023-03</td>\n",
       "    </tr>\n",
       "    <tr>\n",
       "      <th>1</th>\n",
       "      <td>7QV37W</td>\n",
       "      <td>Music</td>\n",
       "      <td>296033</td>\n",
       "      <td>24250</td>\n",
       "      <td>229</td>\n",
       "      <td>2024-03-14 09:34:03</td>\n",
       "      <td>2024-03</td>\n",
       "    </tr>\n",
       "    <tr>\n",
       "      <th>2</th>\n",
       "      <td>4GM38U</td>\n",
       "      <td>Technology</td>\n",
       "      <td>101622</td>\n",
       "      <td>52096</td>\n",
       "      <td>78</td>\n",
       "      <td>2024-03-30 09:34:03</td>\n",
       "      <td>2024-03</td>\n",
       "    </tr>\n",
       "    <tr>\n",
       "      <th>3</th>\n",
       "      <td>9TM98X</td>\n",
       "      <td>Sports</td>\n",
       "      <td>196662</td>\n",
       "      <td>49376</td>\n",
       "      <td>221</td>\n",
       "      <td>2023-10-05 09:34:03</td>\n",
       "      <td>2023-10</td>\n",
       "    </tr>\n",
       "    <tr>\n",
       "      <th>4</th>\n",
       "      <td>6MN27O</td>\n",
       "      <td>Cooking</td>\n",
       "      <td>12995</td>\n",
       "      <td>7523</td>\n",
       "      <td>236</td>\n",
       "      <td>2022-05-15 09:34:03</td>\n",
       "      <td>2022-05</td>\n",
       "    </tr>\n",
       "  </tbody>\n",
       "</table>\n",
       "</div>"
      ],
      "text/plain": [
       "  video_id    category   views  likes  video_length         upload_date  \\\n",
       "0   9YU52H      Sports  119401  87940           232 2023-03-29 09:34:03   \n",
       "1   7QV37W       Music  296033  24250           229 2024-03-14 09:34:03   \n",
       "2   4GM38U  Technology  101622  52096            78 2024-03-30 09:34:03   \n",
       "3   9TM98X      Sports  196662  49376           221 2023-10-05 09:34:03   \n",
       "4   6MN27O     Cooking   12995   7523           236 2022-05-15 09:34:03   \n",
       "\n",
       "  upload_month  \n",
       "0      2023-03  \n",
       "1      2024-03  \n",
       "2      2024-03  \n",
       "3      2023-10  \n",
       "4      2022-05  "
      ]
     },
     "execution_count": 4,
     "metadata": {},
     "output_type": "execute_result"
    }
   ],
   "source": [
    "# Generate data for videos\n",
    "video_data = generate_video_content(\n",
    "    config.VIDEO_AMOUNT_HISTORICAL, \n",
    "    historical=True,\n",
    ")\n",
    "\n",
    "data_video_df = pd.DataFrame(video_data)\n",
    "data_video_df.upload_date = data_video_df.upload_date.apply(pd.to_datetime)\n",
    "\n",
    "data_video_df.head()"
   ]
  },
  {
   "cell_type": "markdown",
   "id": "a2b34c80",
   "metadata": {},
   "source": [
    "### <span style='color:#ff5f27'> 🔗 Interactions Generation</span>\n"
   ]
  },
  {
   "cell_type": "code",
   "execution_count": 5,
   "id": "cf255190",
   "metadata": {},
   "outputs": [
    {
     "data": {
      "text/html": [
       "<div>\n",
       "<style scoped>\n",
       "    .dataframe tbody tr th:only-of-type {\n",
       "        vertical-align: middle;\n",
       "    }\n",
       "\n",
       "    .dataframe tbody tr th {\n",
       "        vertical-align: top;\n",
       "    }\n",
       "\n",
       "    .dataframe thead th {\n",
       "        text-align: right;\n",
       "    }\n",
       "</style>\n",
       "<table border=\"1\" class=\"dataframe\">\n",
       "  <thead>\n",
       "    <tr style=\"text-align: right;\">\n",
       "      <th></th>\n",
       "      <th>interaction_id</th>\n",
       "      <th>user_id</th>\n",
       "      <th>video_id</th>\n",
       "      <th>video_category</th>\n",
       "      <th>interaction_type</th>\n",
       "      <th>watch_time</th>\n",
       "      <th>interaction_date</th>\n",
       "      <th>interaction_day</th>\n",
       "    </tr>\n",
       "  </thead>\n",
       "  <tbody>\n",
       "    <tr>\n",
       "      <th>0</th>\n",
       "      <td>2629-93-0330</td>\n",
       "      <td>EO463T</td>\n",
       "      <td>9EW94Y</td>\n",
       "      <td>Education</td>\n",
       "      <td>skip</td>\n",
       "      <td>198</td>\n",
       "      <td>2024-03-10 09:34:03</td>\n",
       "      <td>2024-03-10</td>\n",
       "    </tr>\n",
       "    <tr>\n",
       "      <th>1</th>\n",
       "      <td>9882-17-4396</td>\n",
       "      <td>CL565A</td>\n",
       "      <td>2NR54A</td>\n",
       "      <td>Lifestyle</td>\n",
       "      <td>skip</td>\n",
       "      <td>90</td>\n",
       "      <td>2023-02-17 09:34:00</td>\n",
       "      <td>2023-02-17</td>\n",
       "    </tr>\n",
       "    <tr>\n",
       "      <th>2</th>\n",
       "      <td>5872-38-9277</td>\n",
       "      <td>SA809C</td>\n",
       "      <td>5HN30A</td>\n",
       "      <td>Music</td>\n",
       "      <td>skip</td>\n",
       "      <td>61</td>\n",
       "      <td>2024-03-02 09:34:00</td>\n",
       "      <td>2024-03-02</td>\n",
       "    </tr>\n",
       "    <tr>\n",
       "      <th>3</th>\n",
       "      <td>1353-75-9585</td>\n",
       "      <td>CV182O</td>\n",
       "      <td>9CQ22Q</td>\n",
       "      <td>Dance</td>\n",
       "      <td>comment</td>\n",
       "      <td>24</td>\n",
       "      <td>2024-02-27 09:34:00</td>\n",
       "      <td>2024-02-27</td>\n",
       "    </tr>\n",
       "    <tr>\n",
       "      <th>4</th>\n",
       "      <td>6136-75-5775</td>\n",
       "      <td>OQ522I</td>\n",
       "      <td>6RG02X</td>\n",
       "      <td>Comedy</td>\n",
       "      <td>skip</td>\n",
       "      <td>93</td>\n",
       "      <td>2023-10-05 09:34:03</td>\n",
       "      <td>2023-10-05</td>\n",
       "    </tr>\n",
       "  </tbody>\n",
       "</table>\n",
       "</div>"
      ],
      "text/plain": [
       "  interaction_id user_id video_id video_category interaction_type  watch_time  \\\n",
       "0   2629-93-0330  EO463T   9EW94Y      Education             skip         198   \n",
       "1   9882-17-4396  CL565A   2NR54A      Lifestyle             skip          90   \n",
       "2   5872-38-9277  SA809C   5HN30A          Music             skip          61   \n",
       "3   1353-75-9585  CV182O   9CQ22Q          Dance          comment          24   \n",
       "4   6136-75-5775  OQ522I   6RG02X         Comedy             skip          93   \n",
       "\n",
       "     interaction_date interaction_day  \n",
       "0 2024-03-10 09:34:03      2024-03-10  \n",
       "1 2023-02-17 09:34:00      2023-02-17  \n",
       "2 2024-03-02 09:34:00      2024-03-02  \n",
       "3 2024-02-27 09:34:00      2024-02-27  \n",
       "4 2023-10-05 09:34:03      2023-10-05  "
      ]
     },
     "execution_count": 5,
     "metadata": {},
     "output_type": "execute_result"
    }
   ],
   "source": [
    "# Generate interactions\n",
    "interactions = generate_interactions(\n",
    "    config.INTERACTIONS_AMOUNT_HISTORICAL, \n",
    "    user_data, \n",
    "    video_data,\n",
    ")\n",
    "\n",
    "data_interactions_df = pd.DataFrame(interactions)\n",
    "data_interactions_df.interaction_date = data_interactions_df.interaction_date.apply(pd.to_datetime)\n",
    "data_interactions_df.head()"
   ]
  },
  {
   "cell_type": "code",
   "execution_count": 6,
   "id": "273fc423",
   "metadata": {},
   "outputs": [],
   "source": [
    "user_interactions_window_agg = generate_user_interactions_window_agg(\n",
    "    config.INTERACTIONS_AMOUNT_HISTORICAL, \n",
    "    user_data, \n",
    "    video_data,\n",
    ")"
   ]
  },
  {
   "cell_type": "code",
   "execution_count": 7,
   "id": "69f52d00",
   "metadata": {},
   "outputs": [
    {
     "data": {
      "text/html": [
       "<div>\n",
       "<style scoped>\n",
       "    .dataframe tbody tr th:only-of-type {\n",
       "        vertical-align: middle;\n",
       "    }\n",
       "\n",
       "    .dataframe tbody tr th {\n",
       "        vertical-align: top;\n",
       "    }\n",
       "\n",
       "    .dataframe thead th {\n",
       "        text-align: right;\n",
       "    }\n",
       "</style>\n",
       "<table border=\"1\" class=\"dataframe\">\n",
       "  <thead>\n",
       "    <tr style=\"text-align: right;\">\n",
       "      <th></th>\n",
       "      <th>user_id</th>\n",
       "      <th>video_category</th>\n",
       "      <th>window_end_time</th>\n",
       "      <th>interaction_day</th>\n",
       "      <th>like_count</th>\n",
       "      <th>dislike_count</th>\n",
       "      <th>view_count</th>\n",
       "      <th>comment_count</th>\n",
       "      <th>share_count</th>\n",
       "      <th>skip_count</th>\n",
       "      <th>total_watch_time</th>\n",
       "    </tr>\n",
       "  </thead>\n",
       "  <tbody>\n",
       "    <tr>\n",
       "      <th>0</th>\n",
       "      <td>YB094V</td>\n",
       "      <td>Technology</td>\n",
       "      <td>2022-05-04 14:34:03</td>\n",
       "      <td>2022-05-04</td>\n",
       "      <td>0</td>\n",
       "      <td>74</td>\n",
       "      <td>99</td>\n",
       "      <td>61</td>\n",
       "      <td>47</td>\n",
       "      <td>56</td>\n",
       "      <td>69</td>\n",
       "    </tr>\n",
       "    <tr>\n",
       "      <th>1</th>\n",
       "      <td>OR189I</td>\n",
       "      <td>Entertainment</td>\n",
       "      <td>2023-11-20 11:34:03</td>\n",
       "      <td>2023-11-20</td>\n",
       "      <td>78</td>\n",
       "      <td>10</td>\n",
       "      <td>64</td>\n",
       "      <td>25</td>\n",
       "      <td>79</td>\n",
       "      <td>13</td>\n",
       "      <td>86</td>\n",
       "    </tr>\n",
       "    <tr>\n",
       "      <th>2</th>\n",
       "      <td>GO239O</td>\n",
       "      <td>Entertainment</td>\n",
       "      <td>2022-11-18 00:34:03</td>\n",
       "      <td>2022-11-18</td>\n",
       "      <td>33</td>\n",
       "      <td>74</td>\n",
       "      <td>12</td>\n",
       "      <td>40</td>\n",
       "      <td>66</td>\n",
       "      <td>75</td>\n",
       "      <td>82</td>\n",
       "    </tr>\n",
       "    <tr>\n",
       "      <th>3</th>\n",
       "      <td>FU575T</td>\n",
       "      <td>Travel</td>\n",
       "      <td>2022-05-13 06:34:03</td>\n",
       "      <td>2022-05-13</td>\n",
       "      <td>41</td>\n",
       "      <td>44</td>\n",
       "      <td>41</td>\n",
       "      <td>9</td>\n",
       "      <td>1</td>\n",
       "      <td>69</td>\n",
       "      <td>18</td>\n",
       "    </tr>\n",
       "    <tr>\n",
       "      <th>4</th>\n",
       "      <td>VC840U</td>\n",
       "      <td>Lifestyle</td>\n",
       "      <td>2023-10-14 07:34:03</td>\n",
       "      <td>2023-10-14</td>\n",
       "      <td>45</td>\n",
       "      <td>72</td>\n",
       "      <td>35</td>\n",
       "      <td>100</td>\n",
       "      <td>74</td>\n",
       "      <td>10</td>\n",
       "      <td>82</td>\n",
       "    </tr>\n",
       "    <tr>\n",
       "      <th>...</th>\n",
       "      <td>...</td>\n",
       "      <td>...</td>\n",
       "      <td>...</td>\n",
       "      <td>...</td>\n",
       "      <td>...</td>\n",
       "      <td>...</td>\n",
       "      <td>...</td>\n",
       "      <td>...</td>\n",
       "      <td>...</td>\n",
       "      <td>...</td>\n",
       "      <td>...</td>\n",
       "    </tr>\n",
       "    <tr>\n",
       "      <th>999995</th>\n",
       "      <td>NP477J</td>\n",
       "      <td>Sports</td>\n",
       "      <td>2023-08-07 07:34:03</td>\n",
       "      <td>2023-08-07</td>\n",
       "      <td>22</td>\n",
       "      <td>82</td>\n",
       "      <td>35</td>\n",
       "      <td>79</td>\n",
       "      <td>64</td>\n",
       "      <td>12</td>\n",
       "      <td>98</td>\n",
       "    </tr>\n",
       "    <tr>\n",
       "      <th>999996</th>\n",
       "      <td>KA512K</td>\n",
       "      <td>Cooking</td>\n",
       "      <td>2024-03-22 12:34:03</td>\n",
       "      <td>2024-03-22</td>\n",
       "      <td>52</td>\n",
       "      <td>21</td>\n",
       "      <td>32</td>\n",
       "      <td>74</td>\n",
       "      <td>39</td>\n",
       "      <td>93</td>\n",
       "      <td>68</td>\n",
       "    </tr>\n",
       "    <tr>\n",
       "      <th>999997</th>\n",
       "      <td>PK178A</td>\n",
       "      <td>Comedy</td>\n",
       "      <td>2023-07-05 13:34:03</td>\n",
       "      <td>2023-07-05</td>\n",
       "      <td>81</td>\n",
       "      <td>76</td>\n",
       "      <td>64</td>\n",
       "      <td>2</td>\n",
       "      <td>83</td>\n",
       "      <td>39</td>\n",
       "      <td>43</td>\n",
       "    </tr>\n",
       "    <tr>\n",
       "      <th>999998</th>\n",
       "      <td>FD801A</td>\n",
       "      <td>Technology</td>\n",
       "      <td>2023-01-18 21:34:03</td>\n",
       "      <td>2023-01-18</td>\n",
       "      <td>37</td>\n",
       "      <td>17</td>\n",
       "      <td>10</td>\n",
       "      <td>87</td>\n",
       "      <td>44</td>\n",
       "      <td>46</td>\n",
       "      <td>66</td>\n",
       "    </tr>\n",
       "    <tr>\n",
       "      <th>999999</th>\n",
       "      <td>YT581B</td>\n",
       "      <td>Dance</td>\n",
       "      <td>2022-07-21 23:34:03</td>\n",
       "      <td>2022-07-21</td>\n",
       "      <td>54</td>\n",
       "      <td>71</td>\n",
       "      <td>11</td>\n",
       "      <td>60</td>\n",
       "      <td>56</td>\n",
       "      <td>16</td>\n",
       "      <td>81</td>\n",
       "    </tr>\n",
       "  </tbody>\n",
       "</table>\n",
       "<p>1000000 rows × 11 columns</p>\n",
       "</div>"
      ],
      "text/plain": [
       "       user_id video_category     window_end_time interaction_day  like_count  \\\n",
       "0       YB094V     Technology 2022-05-04 14:34:03      2022-05-04           0   \n",
       "1       OR189I  Entertainment 2023-11-20 11:34:03      2023-11-20          78   \n",
       "2       GO239O  Entertainment 2022-11-18 00:34:03      2022-11-18          33   \n",
       "3       FU575T         Travel 2022-05-13 06:34:03      2022-05-13          41   \n",
       "4       VC840U      Lifestyle 2023-10-14 07:34:03      2023-10-14          45   \n",
       "...        ...            ...                 ...             ...         ...   \n",
       "999995  NP477J         Sports 2023-08-07 07:34:03      2023-08-07          22   \n",
       "999996  KA512K        Cooking 2024-03-22 12:34:03      2024-03-22          52   \n",
       "999997  PK178A         Comedy 2023-07-05 13:34:03      2023-07-05          81   \n",
       "999998  FD801A     Technology 2023-01-18 21:34:03      2023-01-18          37   \n",
       "999999  YT581B          Dance 2022-07-21 23:34:03      2022-07-21          54   \n",
       "\n",
       "        dislike_count  view_count  comment_count  share_count  skip_count  \\\n",
       "0                  74          99             61           47          56   \n",
       "1                  10          64             25           79          13   \n",
       "2                  74          12             40           66          75   \n",
       "3                  44          41              9            1          69   \n",
       "4                  72          35            100           74          10   \n",
       "...               ...         ...            ...          ...         ...   \n",
       "999995             82          35             79           64          12   \n",
       "999996             21          32             74           39          93   \n",
       "999997             76          64              2           83          39   \n",
       "999998             17          10             87           44          46   \n",
       "999999             71          11             60           56          16   \n",
       "\n",
       "        total_watch_time  \n",
       "0                     69  \n",
       "1                     86  \n",
       "2                     82  \n",
       "3                     18  \n",
       "4                     82  \n",
       "...                  ...  \n",
       "999995                98  \n",
       "999996                68  \n",
       "999997                43  \n",
       "999998                66  \n",
       "999999                81  \n",
       "\n",
       "[1000000 rows x 11 columns]"
      ]
     },
     "execution_count": 7,
     "metadata": {},
     "output_type": "execute_result"
    }
   ],
   "source": [
    "user_interactions_window_agg_df = pd.DataFrame(user_interactions_window_agg)\n",
    "user_interactions_window_agg_df.window_end_time = user_interactions_window_agg_df.window_end_time.apply(pd.to_datetime)\n",
    "user_interactions_window_agg_df"
   ]
  },
  {
   "cell_type": "code",
   "execution_count": 8,
   "id": "28db3e37",
   "metadata": {},
   "outputs": [],
   "source": [
    "video_interactions_window_agg = generate_video_interactions_window_agg(    \n",
    "    config.INTERACTIONS_AMOUNT_HISTORICAL, \n",
    "    user_data, \n",
    "    video_data,\n",
    ")"
   ]
  },
  {
   "cell_type": "code",
   "execution_count": 9,
   "id": "0ae1ff34",
   "metadata": {},
   "outputs": [
    {
     "data": {
      "text/html": [
       "<div>\n",
       "<style scoped>\n",
       "    .dataframe tbody tr th:only-of-type {\n",
       "        vertical-align: middle;\n",
       "    }\n",
       "\n",
       "    .dataframe tbody tr th {\n",
       "        vertical-align: top;\n",
       "    }\n",
       "\n",
       "    .dataframe thead th {\n",
       "        text-align: right;\n",
       "    }\n",
       "</style>\n",
       "<table border=\"1\" class=\"dataframe\">\n",
       "  <thead>\n",
       "    <tr style=\"text-align: right;\">\n",
       "      <th></th>\n",
       "      <th>video_id</th>\n",
       "      <th>window_end_time</th>\n",
       "      <th>interaction_day</th>\n",
       "      <th>like_count</th>\n",
       "      <th>dislike_count</th>\n",
       "      <th>view_count</th>\n",
       "      <th>comment_count</th>\n",
       "      <th>share_count</th>\n",
       "      <th>skip_count</th>\n",
       "      <th>total_watch_time</th>\n",
       "    </tr>\n",
       "  </thead>\n",
       "  <tbody>\n",
       "    <tr>\n",
       "      <th>0</th>\n",
       "      <td>1FY50Q</td>\n",
       "      <td>2022-10-14 22:34:03</td>\n",
       "      <td>2022-10-14</td>\n",
       "      <td>28</td>\n",
       "      <td>95</td>\n",
       "      <td>90</td>\n",
       "      <td>17</td>\n",
       "      <td>34</td>\n",
       "      <td>69</td>\n",
       "      <td>48</td>\n",
       "    </tr>\n",
       "    <tr>\n",
       "      <th>1</th>\n",
       "      <td>1RR97E</td>\n",
       "      <td>2022-05-22 04:34:03</td>\n",
       "      <td>2022-05-22</td>\n",
       "      <td>71</td>\n",
       "      <td>55</td>\n",
       "      <td>42</td>\n",
       "      <td>47</td>\n",
       "      <td>52</td>\n",
       "      <td>2</td>\n",
       "      <td>3</td>\n",
       "    </tr>\n",
       "    <tr>\n",
       "      <th>2</th>\n",
       "      <td>8AR54U</td>\n",
       "      <td>2023-11-11 11:34:03</td>\n",
       "      <td>2023-11-11</td>\n",
       "      <td>26</td>\n",
       "      <td>30</td>\n",
       "      <td>44</td>\n",
       "      <td>22</td>\n",
       "      <td>17</td>\n",
       "      <td>61</td>\n",
       "      <td>15</td>\n",
       "    </tr>\n",
       "    <tr>\n",
       "      <th>3</th>\n",
       "      <td>3LR58N</td>\n",
       "      <td>2023-02-08 06:34:03</td>\n",
       "      <td>2023-02-08</td>\n",
       "      <td>78</td>\n",
       "      <td>34</td>\n",
       "      <td>88</td>\n",
       "      <td>4</td>\n",
       "      <td>2</td>\n",
       "      <td>57</td>\n",
       "      <td>25</td>\n",
       "    </tr>\n",
       "    <tr>\n",
       "      <th>4</th>\n",
       "      <td>5DQ37G</td>\n",
       "      <td>2023-02-05 12:34:03</td>\n",
       "      <td>2023-02-05</td>\n",
       "      <td>59</td>\n",
       "      <td>22</td>\n",
       "      <td>64</td>\n",
       "      <td>58</td>\n",
       "      <td>29</td>\n",
       "      <td>21</td>\n",
       "      <td>58</td>\n",
       "    </tr>\n",
       "    <tr>\n",
       "      <th>...</th>\n",
       "      <td>...</td>\n",
       "      <td>...</td>\n",
       "      <td>...</td>\n",
       "      <td>...</td>\n",
       "      <td>...</td>\n",
       "      <td>...</td>\n",
       "      <td>...</td>\n",
       "      <td>...</td>\n",
       "      <td>...</td>\n",
       "      <td>...</td>\n",
       "    </tr>\n",
       "    <tr>\n",
       "      <th>999995</th>\n",
       "      <td>5NE56Z</td>\n",
       "      <td>2022-12-22 11:34:03</td>\n",
       "      <td>2022-12-22</td>\n",
       "      <td>21</td>\n",
       "      <td>92</td>\n",
       "      <td>93</td>\n",
       "      <td>15</td>\n",
       "      <td>1</td>\n",
       "      <td>50</td>\n",
       "      <td>61</td>\n",
       "    </tr>\n",
       "    <tr>\n",
       "      <th>999996</th>\n",
       "      <td>1AJ05X</td>\n",
       "      <td>2023-05-03 02:34:03</td>\n",
       "      <td>2023-05-03</td>\n",
       "      <td>94</td>\n",
       "      <td>34</td>\n",
       "      <td>9</td>\n",
       "      <td>38</td>\n",
       "      <td>92</td>\n",
       "      <td>52</td>\n",
       "      <td>55</td>\n",
       "    </tr>\n",
       "    <tr>\n",
       "      <th>999997</th>\n",
       "      <td>0VJ10Y</td>\n",
       "      <td>2024-03-30 06:34:03</td>\n",
       "      <td>2024-03-30</td>\n",
       "      <td>50</td>\n",
       "      <td>98</td>\n",
       "      <td>53</td>\n",
       "      <td>73</td>\n",
       "      <td>18</td>\n",
       "      <td>75</td>\n",
       "      <td>78</td>\n",
       "    </tr>\n",
       "    <tr>\n",
       "      <th>999998</th>\n",
       "      <td>2GG92N</td>\n",
       "      <td>2022-05-08 09:34:03</td>\n",
       "      <td>2022-05-08</td>\n",
       "      <td>82</td>\n",
       "      <td>19</td>\n",
       "      <td>32</td>\n",
       "      <td>55</td>\n",
       "      <td>84</td>\n",
       "      <td>99</td>\n",
       "      <td>37</td>\n",
       "    </tr>\n",
       "    <tr>\n",
       "      <th>999999</th>\n",
       "      <td>8WX79Z</td>\n",
       "      <td>2022-05-28 01:34:03</td>\n",
       "      <td>2022-05-28</td>\n",
       "      <td>66</td>\n",
       "      <td>39</td>\n",
       "      <td>98</td>\n",
       "      <td>23</td>\n",
       "      <td>63</td>\n",
       "      <td>70</td>\n",
       "      <td>74</td>\n",
       "    </tr>\n",
       "  </tbody>\n",
       "</table>\n",
       "<p>1000000 rows × 10 columns</p>\n",
       "</div>"
      ],
      "text/plain": [
       "       video_id     window_end_time interaction_day  like_count  \\\n",
       "0        1FY50Q 2022-10-14 22:34:03      2022-10-14          28   \n",
       "1        1RR97E 2022-05-22 04:34:03      2022-05-22          71   \n",
       "2        8AR54U 2023-11-11 11:34:03      2023-11-11          26   \n",
       "3        3LR58N 2023-02-08 06:34:03      2023-02-08          78   \n",
       "4        5DQ37G 2023-02-05 12:34:03      2023-02-05          59   \n",
       "...         ...                 ...             ...         ...   \n",
       "999995   5NE56Z 2022-12-22 11:34:03      2022-12-22          21   \n",
       "999996   1AJ05X 2023-05-03 02:34:03      2023-05-03          94   \n",
       "999997   0VJ10Y 2024-03-30 06:34:03      2024-03-30          50   \n",
       "999998   2GG92N 2022-05-08 09:34:03      2022-05-08          82   \n",
       "999999   8WX79Z 2022-05-28 01:34:03      2022-05-28          66   \n",
       "\n",
       "        dislike_count  view_count  comment_count  share_count  skip_count  \\\n",
       "0                  95          90             17           34          69   \n",
       "1                  55          42             47           52           2   \n",
       "2                  30          44             22           17          61   \n",
       "3                  34          88              4            2          57   \n",
       "4                  22          64             58           29          21   \n",
       "...               ...         ...            ...          ...         ...   \n",
       "999995             92          93             15            1          50   \n",
       "999996             34           9             38           92          52   \n",
       "999997             98          53             73           18          75   \n",
       "999998             19          32             55           84          99   \n",
       "999999             39          98             23           63          70   \n",
       "\n",
       "        total_watch_time  \n",
       "0                     48  \n",
       "1                      3  \n",
       "2                     15  \n",
       "3                     25  \n",
       "4                     58  \n",
       "...                  ...  \n",
       "999995                61  \n",
       "999996                55  \n",
       "999997                78  \n",
       "999998                37  \n",
       "999999                74  \n",
       "\n",
       "[1000000 rows x 10 columns]"
      ]
     },
     "execution_count": 9,
     "metadata": {},
     "output_type": "execute_result"
    }
   ],
   "source": [
    "video_interactions_window_agg_df = pd.DataFrame(video_interactions_window_agg)\n",
    "video_interactions_window_agg_df.window_end_time = video_interactions_window_agg_df.window_end_time.apply(pd.to_datetime)\n",
    "video_interactions_window_agg_df"
   ]
  },
  {
   "cell_type": "markdown",
   "id": "022e16a5",
   "metadata": {},
   "source": [
    "## <span style=\"color:#ff5f27\">👮🏻‍♂️ Great Expectations </span>"
   ]
  },
  {
   "cell_type": "code",
   "execution_count": 10,
   "id": "c1b6548a",
   "metadata": {},
   "outputs": [
    {
     "data": {
      "text/plain": [
       "{\"meta\": {}, \"kwargs\": {\"column\": \"gender\", \"value_set\": [\"Male\", \"Female\", \"Other\"]}, \"expectation_type\": \"expect_column_distinct_values_to_be_in_set\"}"
      ]
     },
     "execution_count": 10,
     "metadata": {},
     "output_type": "execute_result"
    }
   ],
   "source": [
    "# Create a Great Expectations DataFrame from the pandas DataFrame\n",
    "ge_users_df = ge.from_pandas(data_users_df)\n",
    "\n",
    "# Initialize the expectation suite\n",
    "expectation_suite_users = ge_users_df.get_expectation_suite()\n",
    "expectation_suite_users.expectation_suite_name = \"user_data_suite\"\n",
    "\n",
    "# Expectation: Age should be between 0 and 120\n",
    "expectation_suite_users.add_expectation(\n",
    "    ExpectationConfiguration(\n",
    "        expectation_type=\"expect_column_values_to_be_between\",\n",
    "        kwargs={\"column\": \"age\", \"min_value\": 12, \"max_value\": 100}\n",
    "    )\n",
    ")\n",
    "\n",
    "# Expectations: Columns should not have null values\n",
    "for column in ge_users_df.columns:\n",
    "    expectation_suite_users.add_expectation(\n",
    "        ExpectationConfiguration(\n",
    "            expectation_type=\"expect_column_values_to_not_be_null\",\n",
    "            kwargs={\"column\": column}\n",
    "        )\n",
    "    )\n",
    "\n",
    "# Expectation: Gender should only contain specific values\n",
    "expectation_suite_users.add_expectation(\n",
    "    ExpectationConfiguration(\n",
    "        expectation_type=\"expect_column_distinct_values_to_be_in_set\",\n",
    "        kwargs={\"column\": \"gender\", \"value_set\": [\"Male\", \"Female\", \"Other\"]}\n",
    "    )\n",
    ")"
   ]
  },
  {
   "cell_type": "code",
   "execution_count": 11,
   "id": "1b5cc2d5",
   "metadata": {},
   "outputs": [
    {
     "data": {
      "text/plain": [
       "{\"meta\": {}, \"kwargs\": {\"column\": \"upload_date\"}, \"expectation_type\": \"expect_column_values_to_be_dateutil_parseable\"}"
      ]
     },
     "execution_count": 11,
     "metadata": {},
     "output_type": "execute_result"
    }
   ],
   "source": [
    "# Create a Great Expectations DataFrame from the pandas DataFrame\n",
    "ge_video_df = ge.from_pandas(data_video_df)\n",
    "\n",
    "# Initialize the expectation suite\n",
    "expectation_suite_videos = ge_video_df.get_expectation_suite()\n",
    "expectation_suite_videos.expectation_suite_name = \"video_data_suite\"\n",
    "\n",
    "# Expectation: Views, Likes, and Video Length should be non-negative\n",
    "for column in [\"views\", \"likes\", \"video_length\"]:\n",
    "    expectation_suite_videos.add_expectation(\n",
    "        ExpectationConfiguration(\n",
    "            expectation_type=\"expect_column_values_to_be_between\",\n",
    "            kwargs={\"column\": column, \"min_value\": 0, \"max_value\": None}\n",
    "        )\n",
    "    )\n",
    "\n",
    "# Expectation: Valid date format for upload_date\n",
    "expectation_suite_videos.add_expectation(\n",
    "    ExpectationConfiguration(\n",
    "        expectation_type=\"expect_column_values_to_be_dateutil_parseable\",\n",
    "        kwargs={\"column\": \"upload_date\"}\n",
    "    )\n",
    ")"
   ]
  },
  {
   "cell_type": "code",
   "execution_count": 12,
   "id": "87e5556e",
   "metadata": {},
   "outputs": [
    {
     "data": {
      "text/plain": [
       "{\"meta\": {}, \"kwargs\": {\"column\": \"watch_time\", \"min_value\": 0}, \"expectation_type\": \"expect_column_values_to_be_between\"}"
      ]
     },
     "execution_count": 12,
     "metadata": {},
     "output_type": "execute_result"
    }
   ],
   "source": [
    "# Create a Great Expectations DataFrame from the pandas DataFrame\n",
    "ge_interactions_df = ge.from_pandas(data_interactions_df)\n",
    "\n",
    "# Initialize the expectation suite\n",
    "expectation_suite_interactions = ge_interactions_df.get_expectation_suite()\n",
    "expectation_suite_interactions.expectation_suite_name = \"interactions_data_suite\"\n",
    "\n",
    "# Expectations: Non-null values in all columns\n",
    "for column in ge_interactions_df.columns:\n",
    "    expectation_suite_interactions.add_expectation(\n",
    "        ExpectationConfiguration(\n",
    "            expectation_type=\"expect_column_values_to_not_be_null\",\n",
    "            kwargs={\"column\": column}\n",
    "        )\n",
    "    )\n",
    "\n",
    "# Expectation: Validate interaction types\n",
    "expectation_suite_interactions.add_expectation(\n",
    "    ExpectationConfiguration(\n",
    "        expectation_type=\"expect_column_distinct_values_to_be_in_set\",\n",
    "        kwargs={\n",
    "            \"column\": \"interaction_type\",\n",
    "            \"value_set\": ['like', 'dislike', 'view', 'comment', 'share', 'skip']\n",
    "        }\n",
    "    )\n",
    ")\n",
    "\n",
    "# Expectation: Positive watch time\n",
    "expectation_suite_interactions.add_expectation(\n",
    "    ExpectationConfiguration(\n",
    "        expectation_type=\"expect_column_values_to_be_between\",\n",
    "        kwargs={\"column\": \"watch_time\", \"min_value\": 0}\n",
    "    )\n",
    ")"
   ]
  },
  {
   "cell_type": "markdown",
   "id": "06368b8b",
   "metadata": {},
   "source": [
    "## <span style=\"color:#ff5f27\">🔮 Connect to Hopsworks Feature Store </span>"
   ]
  },
  {
   "cell_type": "code",
   "execution_count": 13,
   "id": "602d3d75",
   "metadata": {},
   "outputs": [
    {
     "name": "stdout",
     "output_type": "stream",
     "text": [
      "Connected. Call `.close()` to terminate connection gracefully.\n",
      "\n",
      "Multiple projects found. \n",
      "\n",
      "\t (1) Bytewax_pipeline\n",
      "\t (2) flink_tiktok\n"
     ]
    },
    {
     "name": "stdin",
     "output_type": "stream",
     "text": [
      "\n",
      "Enter project to access:  2\n"
     ]
    },
    {
     "name": "stdout",
     "output_type": "stream",
     "text": [
      "\n",
      "Logged in to project, explore it here https://60342400-fd68-11ee-a374-5db5bf1f1917.cloud.hopsworks.ai:443/p/120\n",
      "Connected. Call `.close()` to terminate connection gracefully.\n"
     ]
    }
   ],
   "source": [
    "import hopsworks\n",
    "\n",
    "project = hopsworks.login()\n",
    "\n",
    "fs = project.get_feature_store()"
   ]
  },
  {
   "cell_type": "markdown",
   "id": "5a19a172",
   "metadata": {},
   "source": [
    "## <span style=\"color:#ff5f27\">🪄 Feature Group Creation </span>\n"
   ]
  },
  {
   "cell_type": "code",
   "execution_count": 14,
   "id": "ee7dee55",
   "metadata": {},
   "outputs": [
    {
     "name": "stdout",
     "output_type": "stream",
     "text": [
      "Feature Group created successfully, explore it at \n",
      "https://60342400-fd68-11ee-a374-5db5bf1f1917.cloud.hopsworks.ai:443/p/120/fs/68/fg/2094\n",
      "Validation succeeded.\n",
      "Validation Report saved successfully, explore a summary at https://60342400-fd68-11ee-a374-5db5bf1f1917.cloud.hopsworks.ai:443/p/120/fs/68/fg/2094\n"
     ]
    },
    {
     "data": {
      "application/vnd.jupyter.widget-view+json": {
       "model_id": "d1b95e54aa224dafb8c5bb570b72d649",
       "version_major": 2,
       "version_minor": 0
      },
      "text/plain": [
       "Uploading Dataframe: 0.00% |          | Rows 0/25000 | Elapsed Time: 00:00 | Remaining Time: ?"
      ]
     },
     "metadata": {},
     "output_type": "display_data"
    },
    {
     "name": "stdout",
     "output_type": "stream",
     "text": [
      "Launching job: users_1_offline_fg_materialization\n",
      "Job started successfully, you can follow the progress at \n",
      "https://60342400-fd68-11ee-a374-5db5bf1f1917.cloud.hopsworks.ai/p/120/jobs/named/users_1_offline_fg_materialization/executions\n",
      "Done ✅\n"
     ]
    }
   ],
   "source": [
    "users_fg = fs.get_or_create_feature_group(\n",
    "    name=\"users\",\n",
    "    description=\"Users data.\",\n",
    "    version=1,\n",
    "    primary_key=[\"user_id\"],\n",
    "    partition_key=[\"registration_month\"],\n",
    "    event_time=\"registration_date\",\n",
    "    online_enabled=True,\n",
    "    expectation_suite=expectation_suite_users,\n",
    ")\n",
    "\n",
    "users_fg.insert(data_users_df)\n",
    "print('Done ✅')"
   ]
  },
  {
   "cell_type": "code",
   "execution_count": 15,
   "id": "1612d635",
   "metadata": {},
   "outputs": [
    {
     "name": "stdout",
     "output_type": "stream",
     "text": [
      "Feature Group created successfully, explore it at \n",
      "https://60342400-fd68-11ee-a374-5db5bf1f1917.cloud.hopsworks.ai:443/p/120/fs/68/fg/2095\n",
      "Validation failed.\n",
      "Validation Report saved successfully, explore a summary at https://60342400-fd68-11ee-a374-5db5bf1f1917.cloud.hopsworks.ai:443/p/120/fs/68/fg/2095\n"
     ]
    },
    {
     "data": {
      "application/vnd.jupyter.widget-view+json": {
       "model_id": "47296d0fc84240299d78263abd6d33fe",
       "version_major": 2,
       "version_minor": 0
      },
      "text/plain": [
       "Uploading Dataframe: 0.00% |          | Rows 0/25000 | Elapsed Time: 00:00 | Remaining Time: ?"
      ]
     },
     "metadata": {},
     "output_type": "display_data"
    },
    {
     "name": "stdout",
     "output_type": "stream",
     "text": [
      "Launching job: videos_1_offline_fg_materialization\n",
      "Job started successfully, you can follow the progress at \n",
      "https://60342400-fd68-11ee-a374-5db5bf1f1917.cloud.hopsworks.ai/p/120/jobs/named/videos_1_offline_fg_materialization/executions\n",
      "Done ✅\n"
     ]
    }
   ],
   "source": [
    "videos_fg = fs.get_or_create_feature_group(\n",
    "    name=\"videos\",\n",
    "    description=\"Videos data.\",\n",
    "    version=1,\n",
    "    primary_key=[\"video_id\"],\n",
    "    partition_key=[\"upload_month\"],\n",
    "    online_enabled=True,\n",
    "    event_time=\"upload_date\",\n",
    "    expectation_suite=expectation_suite_videos,\n",
    ")\n",
    "\n",
    "videos_fg.insert(data_video_df)\n",
    "print('Done ✅')"
   ]
  },
  {
   "cell_type": "code",
   "execution_count": 16,
   "id": "aac44fb8",
   "metadata": {},
   "outputs": [
    {
     "name": "stdout",
     "output_type": "stream",
     "text": [
      "Feature Group created successfully, explore it at \n",
      "https://60342400-fd68-11ee-a374-5db5bf1f1917.cloud.hopsworks.ai:443/p/120/fs/68/fg/2096\n",
      "Validation succeeded.\n",
      "Validation Report saved successfully, explore a summary at https://60342400-fd68-11ee-a374-5db5bf1f1917.cloud.hopsworks.ai:443/p/120/fs/68/fg/2096\n"
     ]
    },
    {
     "data": {
      "application/vnd.jupyter.widget-view+json": {
       "model_id": "ac04dd8b748e4d3692736775dda7b396",
       "version_major": 2,
       "version_minor": 0
      },
      "text/plain": [
       "Uploading Dataframe: 0.00% |          | Rows 0/1000000 | Elapsed Time: 00:00 | Remaining Time: ?"
      ]
     },
     "metadata": {},
     "output_type": "display_data"
    },
    {
     "name": "stdout",
     "output_type": "stream",
     "text": [
      "Launching job: interactions_1_offline_fg_materialization\n",
      "Job started successfully, you can follow the progress at \n",
      "https://60342400-fd68-11ee-a374-5db5bf1f1917.cloud.hopsworks.ai/p/120/jobs/named/interactions_1_offline_fg_materialization/executions\n",
      "Done ✅\n"
     ]
    }
   ],
   "source": [
    "interactions_fg = fs.get_or_create_feature_group(\n",
    "    name=\"interactions\",\n",
    "    description=\"Interactions data.\",\n",
    "    version=1,\n",
    "    primary_key=[\"interaction_id\", \"user_id\", \"video_id\"],\n",
    "    partition_key = [\"interaction_day\"],\n",
    "    online_enabled=True,\n",
    "    event_time=\"interaction_date\",\n",
    "    expectation_suite=expectation_suite_interactions,\n",
    ")\n",
    "\n",
    "interactions_fg.insert(data_interactions_df)\n",
    "print('Done ✅')"
   ]
  },
  {
   "cell_type": "code",
   "execution_count": 17,
   "id": "d2cf0880",
   "metadata": {},
   "outputs": [
    {
     "name": "stdout",
     "output_type": "stream",
     "text": [
      "Feature Group created successfully, explore it at \n",
      "https://60342400-fd68-11ee-a374-5db5bf1f1917.cloud.hopsworks.ai:443/p/120/fs/68/fg/2097\n"
     ]
    },
    {
     "data": {
      "application/vnd.jupyter.widget-view+json": {
       "model_id": "54bcf74716de49648822432a9d2002d2",
       "version_major": 2,
       "version_minor": 0
      },
      "text/plain": [
       "Uploading Dataframe: 0.00% |          | Rows 0/1000000 | Elapsed Time: 00:00 | Remaining Time: ?"
      ]
     },
     "metadata": {},
     "output_type": "display_data"
    },
    {
     "name": "stdout",
     "output_type": "stream",
     "text": [
      "Launching job: user_window_agg_1h_1_offline_fg_materialization\n",
      "Job started successfully, you can follow the progress at \n",
      "https://60342400-fd68-11ee-a374-5db5bf1f1917.cloud.hopsworks.ai/p/120/jobs/named/user_window_agg_1h_1_offline_fg_materialization/executions\n"
     ]
    },
    {
     "data": {
      "text/plain": [
       "(<hsfs.core.job.Job at 0x33ff0d720>, None)"
      ]
     },
     "execution_count": 17,
     "metadata": {},
     "output_type": "execute_result"
    }
   ],
   "source": [
    "user_window_agg_1h_fg = fs.get_or_create_feature_group(\n",
    "    \"user_window_agg_1h\",\n",
    "    version=1,\n",
    "    statistics_config=False,\n",
    "    primary_key=[\"user_id\"],\n",
    "    partition_key=[\"interaction_day\"],\n",
    "    event_time=\"window_end_time\",\n",
    "    online_enabled=True,\n",
    "    stream=True,\n",
    ")\n",
    "\n",
    "user_window_agg_1h_fg.insert(user_interactions_window_agg_df)"
   ]
  },
  {
   "cell_type": "code",
   "execution_count": 18,
   "id": "89828507",
   "metadata": {},
   "outputs": [
    {
     "name": "stdout",
     "output_type": "stream",
     "text": [
      "Feature Group created successfully, explore it at \n",
      "https://60342400-fd68-11ee-a374-5db5bf1f1917.cloud.hopsworks.ai:443/p/120/fs/68/fg/2098\n"
     ]
    },
    {
     "data": {
      "application/vnd.jupyter.widget-view+json": {
       "model_id": "679e8eec34c843c5a8f8c82b2c0a443e",
       "version_major": 2,
       "version_minor": 0
      },
      "text/plain": [
       "Uploading Dataframe: 0.00% |          | Rows 0/1000000 | Elapsed Time: 00:00 | Remaining Time: ?"
      ]
     },
     "metadata": {},
     "output_type": "display_data"
    },
    {
     "name": "stdout",
     "output_type": "stream",
     "text": [
      "Launching job: video_window_agg_1h_1_offline_fg_materialization\n",
      "Job started successfully, you can follow the progress at \n",
      "https://60342400-fd68-11ee-a374-5db5bf1f1917.cloud.hopsworks.ai/p/120/jobs/named/video_window_agg_1h_1_offline_fg_materialization/executions\n"
     ]
    },
    {
     "data": {
      "text/plain": [
       "(<hsfs.core.job.Job at 0x33ff64f40>, None)"
      ]
     },
     "execution_count": 18,
     "metadata": {},
     "output_type": "execute_result"
    }
   ],
   "source": [
    "video_window_agg_1h_fg = fs.get_or_create_feature_group(\n",
    "    \"video_window_agg_1h\",\n",
    "    version=1,\n",
    "    statistics_config=False,\n",
    "    primary_key=[\"video_id\"],\n",
    "    partition_key=[\"interaction_day\"],\n",
    "    event_time=\"window_end_time\",\n",
    "    online_enabled=True,\n",
    "    stream=True,\n",
    ")\n",
    "\n",
    "video_window_agg_1h_fg.insert(video_interactions_window_agg_df)"
   ]
  },
  {
   "cell_type": "markdown",
   "id": "20a31c2b",
   "metadata": {},
   "source": [
    "## <span style=\"color:#ff5f27\">🪄 Ranking Feature Group </span>\n"
   ]
  },
  {
   "cell_type": "code",
   "execution_count": 19,
   "id": "eef6fd40",
   "metadata": {},
   "outputs": [
    {
     "data": {
      "text/html": [
       "<div>\n",
       "<style scoped>\n",
       "    .dataframe tbody tr th:only-of-type {\n",
       "        vertical-align: middle;\n",
       "    }\n",
       "\n",
       "    .dataframe tbody tr th {\n",
       "        vertical-align: top;\n",
       "    }\n",
       "\n",
       "    .dataframe thead th {\n",
       "        text-align: right;\n",
       "    }\n",
       "</style>\n",
       "<table border=\"1\" class=\"dataframe\">\n",
       "  <thead>\n",
       "    <tr style=\"text-align: right;\">\n",
       "      <th></th>\n",
       "      <th>user_id</th>\n",
       "      <th>video_id</th>\n",
       "      <th>video_category</th>\n",
       "      <th>interaction_day</th>\n",
       "      <th>category</th>\n",
       "      <th>views</th>\n",
       "      <th>likes</th>\n",
       "      <th>video_length</th>\n",
       "      <th>upload_month</th>\n",
       "      <th>gender</th>\n",
       "      <th>age</th>\n",
       "      <th>country</th>\n",
       "      <th>registration_month</th>\n",
       "      <th>label</th>\n",
       "    </tr>\n",
       "  </thead>\n",
       "  <tbody>\n",
       "    <tr>\n",
       "      <th>0</th>\n",
       "      <td>EO463T</td>\n",
       "      <td>9EW94Y</td>\n",
       "      <td>Education</td>\n",
       "      <td>2024-03-10</td>\n",
       "      <td>Education</td>\n",
       "      <td>173225</td>\n",
       "      <td>155626</td>\n",
       "      <td>198</td>\n",
       "      <td>2023-11</td>\n",
       "      <td>Male</td>\n",
       "      <td>86</td>\n",
       "      <td>St. Barthélemy</td>\n",
       "      <td>2022-08</td>\n",
       "      <td>0</td>\n",
       "    </tr>\n",
       "    <tr>\n",
       "      <th>1</th>\n",
       "      <td>EO463T</td>\n",
       "      <td>5ME15H</td>\n",
       "      <td>Lifestyle</td>\n",
       "      <td>2023-10-07</td>\n",
       "      <td>Lifestyle</td>\n",
       "      <td>45880</td>\n",
       "      <td>4041</td>\n",
       "      <td>234</td>\n",
       "      <td>2022-07</td>\n",
       "      <td>Male</td>\n",
       "      <td>86</td>\n",
       "      <td>St. Barthélemy</td>\n",
       "      <td>2022-08</td>\n",
       "      <td>1</td>\n",
       "    </tr>\n",
       "    <tr>\n",
       "      <th>2</th>\n",
       "      <td>EO463T</td>\n",
       "      <td>8JD08X</td>\n",
       "      <td>Comedy</td>\n",
       "      <td>2023-06-24</td>\n",
       "      <td>Comedy</td>\n",
       "      <td>46231</td>\n",
       "      <td>26117</td>\n",
       "      <td>143</td>\n",
       "      <td>2022-10</td>\n",
       "      <td>Male</td>\n",
       "      <td>86</td>\n",
       "      <td>St. Barthélemy</td>\n",
       "      <td>2022-08</td>\n",
       "      <td>0</td>\n",
       "    </tr>\n",
       "    <tr>\n",
       "      <th>3</th>\n",
       "      <td>EO463T</td>\n",
       "      <td>3KS70N</td>\n",
       "      <td>Education</td>\n",
       "      <td>2023-11-08</td>\n",
       "      <td>Education</td>\n",
       "      <td>56552</td>\n",
       "      <td>47677</td>\n",
       "      <td>197</td>\n",
       "      <td>2023-10</td>\n",
       "      <td>Male</td>\n",
       "      <td>86</td>\n",
       "      <td>St. Barthélemy</td>\n",
       "      <td>2022-08</td>\n",
       "      <td>0</td>\n",
       "    </tr>\n",
       "    <tr>\n",
       "      <th>4</th>\n",
       "      <td>EO463T</td>\n",
       "      <td>9LO34X</td>\n",
       "      <td>Dance</td>\n",
       "      <td>2022-08-23</td>\n",
       "      <td>Dance</td>\n",
       "      <td>32679</td>\n",
       "      <td>30403</td>\n",
       "      <td>131</td>\n",
       "      <td>2022-06</td>\n",
       "      <td>Male</td>\n",
       "      <td>86</td>\n",
       "      <td>St. Barthélemy</td>\n",
       "      <td>2022-08</td>\n",
       "      <td>0</td>\n",
       "    </tr>\n",
       "  </tbody>\n",
       "</table>\n",
       "</div>"
      ],
      "text/plain": [
       "  user_id video_id video_category interaction_day   category   views   likes  \\\n",
       "0  EO463T   9EW94Y      Education      2024-03-10  Education  173225  155626   \n",
       "1  EO463T   5ME15H      Lifestyle      2023-10-07  Lifestyle   45880    4041   \n",
       "2  EO463T   8JD08X         Comedy      2023-06-24     Comedy   46231   26117   \n",
       "3  EO463T   3KS70N      Education      2023-11-08  Education   56552   47677   \n",
       "4  EO463T   9LO34X          Dance      2022-08-23      Dance   32679   30403   \n",
       "\n",
       "   video_length upload_month gender  age         country registration_month  \\\n",
       "0           198      2023-11   Male   86  St. Barthélemy            2022-08   \n",
       "1           234      2022-07   Male   86  St. Barthélemy            2022-08   \n",
       "2           143      2022-10   Male   86  St. Barthélemy            2022-08   \n",
       "3           197      2023-10   Male   86  St. Barthélemy            2022-08   \n",
       "4           131      2022-06   Male   86  St. Barthélemy            2022-08   \n",
       "\n",
       "   label  \n",
       "0      0  \n",
       "1      1  \n",
       "2      0  \n",
       "3      0  \n",
       "4      0  "
      ]
     },
     "execution_count": 19,
     "metadata": {},
     "output_type": "execute_result"
    }
   ],
   "source": [
    "video_interactions_df = pd.merge(\n",
    "    data_interactions_df, \n",
    "    data_video_df, \n",
    "    on='video_id', \n",
    "    how='inner',\n",
    ")\n",
    "\n",
    "ranking_df = pd.merge(\n",
    "    video_interactions_df, \n",
    "    data_users_df, \n",
    "    on='user_id', \n",
    "    how='inner',\n",
    ")\n",
    "\n",
    "ranking_df['label'] = np.where(\n",
    "    ranking_df.interaction_type.isin(['view', 'like', 'share', 'comment']), \n",
    "    1, \n",
    "    0,\n",
    ")\n",
    "\n",
    "ranking_df.drop(\n",
    "    ['interaction_id', 'interaction_type', 'watch_time', 'interaction_date', 'upload_date', 'registration_date'], \n",
    "    axis=1,\n",
    "    inplace=True,\n",
    ")\n",
    "\n",
    "ranking_df.head()"
   ]
  },
  {
   "cell_type": "code",
   "execution_count": 20,
   "id": "08a30c03",
   "metadata": {},
   "outputs": [
    {
     "name": "stdout",
     "output_type": "stream",
     "text": [
      "Feature Group created successfully, explore it at \n",
      "https://60342400-fd68-11ee-a374-5db5bf1f1917.cloud.hopsworks.ai:443/p/120/fs/68/fg/2099\n"
     ]
    },
    {
     "data": {
      "application/vnd.jupyter.widget-view+json": {
       "model_id": "df76c357ebf14dd0869bfb0f3d61ea65",
       "version_major": 2,
       "version_minor": 0
      },
      "text/plain": [
       "Uploading Dataframe: 0.00% |          | Rows 0/1002387 | Elapsed Time: 00:00 | Remaining Time: ?"
      ]
     },
     "metadata": {},
     "output_type": "display_data"
    },
    {
     "name": "stdout",
     "output_type": "stream",
     "text": [
      "Launching job: ranking_1_offline_fg_materialization\n",
      "Job started successfully, you can follow the progress at \n",
      "https://60342400-fd68-11ee-a374-5db5bf1f1917.cloud.hopsworks.ai/p/120/jobs/named/ranking_1_offline_fg_materialization/executions\n",
      "Done ✅\n"
     ]
    }
   ],
   "source": [
    "ranking_fg = fs.get_or_create_feature_group(\n",
    "    name=\"ranking\",\n",
    "    description=\"Ranking Data.\",\n",
    "    version=1,\n",
    "    primary_key=[\"user_id\", \"video_id\"],\n",
    "    partition_key = [\"interaction_day\"],    \n",
    "    online_enabled=True, # why online?\n",
    ")\n",
    "\n",
    "ranking_fg.insert(ranking_df)\n",
    "print('Done ✅')"
   ]
  },
  {
   "cell_type": "markdown",
   "id": "6bcc04ea",
   "metadata": {},
   "source": [
    "---"
   ]
  }
 ],
 "metadata": {
  "kernelspec": {
   "display_name": "Python 3 (ipykernel)",
   "language": "python",
   "name": "python3"
  },
  "language_info": {
   "codemirror_mode": {
    "name": "ipython",
    "version": 3
   },
   "file_extension": ".py",
   "mimetype": "text/x-python",
   "name": "python",
   "nbconvert_exporter": "python",
   "pygments_lexer": "ipython3",
   "version": "3.10.13"
  }
 },
 "nbformat": 4,
 "nbformat_minor": 5
}
